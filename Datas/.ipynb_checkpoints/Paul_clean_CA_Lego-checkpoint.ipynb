{
 "cells": [
  {
   "cell_type": "code",
   "execution_count": 1,
   "id": "b91a87d2",
   "metadata": {},
   "outputs": [],
   "source": [
    "import pandas as pd\n",
    "import numpy as np\n",
    "import re\n",
    "import datetime\n",
    "from datetime import timedelta "
   ]
  },
  {
   "cell_type": "code",
   "execution_count": 2,
   "id": "ac7e6ea2",
   "metadata": {},
   "outputs": [],
   "source": [
    "df_1999 = pd.read_csv(\"./tabula-Lego_Annual_Report_1999_ENG.csv\")\n",
    "df_2000 = pd.read_csv(\"./tabula-Lego_Annual_Report_2000_ENG.csv\")\n",
    "df_2005 = pd.read_csv(\"./tabula-Lego_Annual_Report_2005_ENG.csv\")\n",
    "df_2010 = pd.read_csv(\"./tabula-Lego_Annual_Report_2010_ENG.csv\", skiprows=[0])\n",
    "df_2015 = pd.read_csv(\"./tabula-Lego_Annual_Report_2015_ENG.csv\")\n",
    "df_2020 = pd.read_csv(\"./tabula-Lego_Annual_Report_2020_ENG.csv\")\n",
    "df_2022 = pd.read_csv(\"./tabula-LEGO_Annual_Report2022_Final_WEB.csv\")"
   ]
  },
  {
   "cell_type": "code",
   "execution_count": 3,
   "id": "8c9c40b9",
   "metadata": {},
   "outputs": [],
   "source": [
    "df_2020 = df_2020.iloc[1:6].reset_index(drop=True)"
   ]
  },
  {
   "cell_type": "code",
   "execution_count": 4,
   "id": "83eb79f2",
   "metadata": {},
   "outputs": [],
   "source": [
    "df_2015 = df_2015.iloc[1:6].reset_index(drop=True)"
   ]
  },
  {
   "cell_type": "code",
   "execution_count": 5,
   "id": "8372e0e9",
   "metadata": {},
   "outputs": [],
   "source": [
    "df_2010.rename(columns={\"Unnamed: 0\": \"(mDKK)\"}, inplace=True)"
   ]
  },
  {
   "cell_type": "code",
   "execution_count": 6,
   "id": "78d3b1f2",
   "metadata": {},
   "outputs": [],
   "source": [
    "df_2010 = df_2010.iloc[2:8].reset_index(drop=True)"
   ]
  },
  {
   "cell_type": "code",
   "execution_count": 7,
   "id": "8a451501",
   "metadata": {},
   "outputs": [],
   "source": [
    "df_2010.drop([3], inplace=True)"
   ]
  },
  {
   "cell_type": "code",
   "execution_count": 8,
   "id": "4dad3b0b",
   "metadata": {},
   "outputs": [],
   "source": [
    "df_2010.replace(\"Operating profit before special items\", \"Operating profit\",inplace=True)"
   ]
  },
  {
   "cell_type": "code",
   "execution_count": 9,
   "id": "4f0dff12",
   "metadata": {},
   "outputs": [],
   "source": [
    "df_2005.drop(df_2005.columns[1], axis=1, inplace=True)"
   ]
  },
  {
   "cell_type": "code",
   "execution_count": 10,
   "id": "1320ddb6",
   "metadata": {},
   "outputs": [],
   "source": [
    "df_2005 = df_2005.iloc[1:12].reset_index(drop=True)"
   ]
  },
  {
   "cell_type": "code",
   "execution_count": 11,
   "id": "c52c518c",
   "metadata": {},
   "outputs": [],
   "source": [
    "df_2005.drop([2,3,4,5,9,10],inplace=True)"
   ]
  },
  {
   "cell_type": "code",
   "execution_count": 12,
   "id": "250c3734",
   "metadata": {},
   "outputs": [],
   "source": [
    "df_2005.replace(\"Operating profit/(loss)\", \"Operating profit\",inplace=True)\n",
    "df_2005.replace(\"Profit/(loss) before tax\", \"Profit before income tax\",inplace=True)\n",
    "df_2005.rename(columns={df_2005.columns[0]: \"(mDKK)\"}, inplace=True)"
   ]
  },
  {
   "cell_type": "code",
   "execution_count": 13,
   "id": "fe39ec8e",
   "metadata": {},
   "outputs": [],
   "source": [
    "df_1999 = df_1999.rename(columns={\"Unnamed: 0\": \"(mDKK)\"})\n",
    "df_1999 = df_1999.iloc[:2].replace(\"Net turnover\",\"Revenue\").replace(\"Result before tax\",\"Profit before income tax\")"
   ]
  },
  {
   "cell_type": "code",
   "execution_count": 15,
   "id": "e29a9381",
   "metadata": {},
   "outputs": [],
   "source": [
    "df_2000 = df_2000.rename(columns={\"Unnamed: 0\": \"(mDKK)\"})\n",
    "df_2000[\"2000\"] = df_2000[\"2000\"].astype(str)\n",
    "df_2000 = df_2000.iloc[:2,:2].replace(\"Net sales\",\"Revenue\").replace(\"Result before tax\",\"Profit before income tax\")"
   ]
  },
  {
   "cell_type": "code",
   "execution_count": 16,
   "id": "c1ddb9ce",
   "metadata": {},
   "outputs": [],
   "source": [
    "df_2022 = df_2022.iloc[1:6,0:3].reset_index(drop=True)"
   ]
  },
  {
   "cell_type": "code",
   "execution_count": 17,
   "id": "c43160c0",
   "metadata": {},
   "outputs": [],
   "source": [
    "df_2022.replace(\"Financial items\", \"Financial income and expenses\",inplace=True)\n",
    "df_2022.replace(\"Profit before tax\", \"Profit before income tax\",inplace=True)"
   ]
  },
  {
   "cell_type": "code",
   "execution_count": 18,
   "id": "5ef2bded",
   "metadata": {},
   "outputs": [],
   "source": [
    "df_global = df_2005.merge(df_2010, how='inner', on='(mDKK)')"
   ]
  },
  {
   "cell_type": "code",
   "execution_count": 19,
   "id": "1312ab6f",
   "metadata": {},
   "outputs": [],
   "source": [
    "df_global = df_global.merge(df_2015, how='inner', on='(mDKK)')"
   ]
  },
  {
   "cell_type": "code",
   "execution_count": 20,
   "id": "512c0ed2",
   "metadata": {},
   "outputs": [],
   "source": [
    "df_global = df_global.merge(df_2020, how='inner', on='(mDKK)')"
   ]
  },
  {
   "cell_type": "code",
   "execution_count": 21,
   "id": "40ea36b0",
   "metadata": {},
   "outputs": [],
   "source": [
    "df_global = df_global.merge(df_2022, how='inner', on='(mDKK)')"
   ]
  },
  {
   "cell_type": "code",
   "execution_count": 22,
   "id": "d4ceb949",
   "metadata": {},
   "outputs": [],
   "source": [
    "df_global = df_global.applymap(lambda x: x.replace(',', '').replace('(', '').replace(')', ''))"
   ]
  },
  {
   "cell_type": "code",
   "execution_count": 23,
   "id": "be7c0e70",
   "metadata": {},
   "outputs": [],
   "source": [
    "df_global.iloc[:, 1:] = df_global.iloc[:, 1:].applymap(float)"
   ]
  },
  {
   "cell_type": "code",
   "execution_count": 24,
   "id": "d92472e4",
   "metadata": {},
   "outputs": [],
   "source": [
    "df_global = df_global.merge(df_1999, how='left', on='(mDKK)')"
   ]
  },
  {
   "cell_type": "code",
   "execution_count": 25,
   "id": "0e016612",
   "metadata": {},
   "outputs": [],
   "source": [
    "df_global = df_global.merge(df_2000, how='left', on='(mDKK)')"
   ]
  },
  {
   "cell_type": "code",
   "execution_count": 26,
   "id": "696e4c9b",
   "metadata": {},
   "outputs": [],
   "source": [
    "df_global.sort_index(axis=1, inplace=True)"
   ]
  },
  {
   "cell_type": "code",
   "execution_count": 27,
   "id": "f40b5706",
   "metadata": {},
   "outputs": [
    {
     "data": {
      "text/html": [
       "<div>\n",
       "<style scoped>\n",
       "    .dataframe tbody tr th:only-of-type {\n",
       "        vertical-align: middle;\n",
       "    }\n",
       "\n",
       "    .dataframe tbody tr th {\n",
       "        vertical-align: top;\n",
       "    }\n",
       "\n",
       "    .dataframe thead th {\n",
       "        text-align: right;\n",
       "    }\n",
       "</style>\n",
       "<table border=\"1\" class=\"dataframe\">\n",
       "  <thead>\n",
       "    <tr style=\"text-align: right;\">\n",
       "      <th></th>\n",
       "      <th>(mDKK)</th>\n",
       "      <th>1995</th>\n",
       "      <th>1996</th>\n",
       "      <th>1997</th>\n",
       "      <th>1998</th>\n",
       "      <th>1999</th>\n",
       "      <th>2000</th>\n",
       "      <th>2001</th>\n",
       "      <th>2002</th>\n",
       "      <th>2003</th>\n",
       "      <th>...</th>\n",
       "      <th>2013</th>\n",
       "      <th>2014</th>\n",
       "      <th>2015</th>\n",
       "      <th>2016</th>\n",
       "      <th>2017</th>\n",
       "      <th>2018</th>\n",
       "      <th>2019</th>\n",
       "      <th>2020</th>\n",
       "      <th>2021</th>\n",
       "      <th>2022</th>\n",
       "    </tr>\n",
       "  </thead>\n",
       "  <tbody>\n",
       "    <tr>\n",
       "      <th>0</th>\n",
       "      <td>Revenue</td>\n",
       "      <td>6844.0</td>\n",
       "      <td>7534.0</td>\n",
       "      <td>7616.0</td>\n",
       "      <td>768.0</td>\n",
       "      <td>9808.0</td>\n",
       "      <td>9467.0</td>\n",
       "      <td>9000.0</td>\n",
       "      <td>9601.0</td>\n",
       "      <td>6792.0</td>\n",
       "      <td>...</td>\n",
       "      <td>25294.0</td>\n",
       "      <td>28578.0</td>\n",
       "      <td>35780.0</td>\n",
       "      <td>37934.0</td>\n",
       "      <td>34995.0</td>\n",
       "      <td>36391.0</td>\n",
       "      <td>38544.0</td>\n",
       "      <td>43656.0</td>\n",
       "      <td>55294.0</td>\n",
       "      <td>64647.0</td>\n",
       "    </tr>\n",
       "    <tr>\n",
       "      <th>1</th>\n",
       "      <td>Expenses</td>\n",
       "      <td>NaN</td>\n",
       "      <td>NaN</td>\n",
       "      <td>NaN</td>\n",
       "      <td>NaN</td>\n",
       "      <td>NaN</td>\n",
       "      <td>NaN</td>\n",
       "      <td>8142.0</td>\n",
       "      <td>8795.0</td>\n",
       "      <td>7902.0</td>\n",
       "      <td>...</td>\n",
       "      <td>16958.0</td>\n",
       "      <td>18881.0</td>\n",
       "      <td>23536.0</td>\n",
       "      <td>25486.0</td>\n",
       "      <td>24636.0</td>\n",
       "      <td>25617.0</td>\n",
       "      <td>27707.0</td>\n",
       "      <td>30744.0</td>\n",
       "      <td>38250.0</td>\n",
       "      <td>46726.0</td>\n",
       "    </tr>\n",
       "    <tr>\n",
       "      <th>2</th>\n",
       "      <td>Operating profit</td>\n",
       "      <td>NaN</td>\n",
       "      <td>NaN</td>\n",
       "      <td>NaN</td>\n",
       "      <td>NaN</td>\n",
       "      <td>NaN</td>\n",
       "      <td>NaN</td>\n",
       "      <td>736.0</td>\n",
       "      <td>806.0</td>\n",
       "      <td>1565.0</td>\n",
       "      <td>...</td>\n",
       "      <td>8336.0</td>\n",
       "      <td>9697.0</td>\n",
       "      <td>12244.0</td>\n",
       "      <td>12448.0</td>\n",
       "      <td>10359.0</td>\n",
       "      <td>10774.0</td>\n",
       "      <td>10837.0</td>\n",
       "      <td>12912.0</td>\n",
       "      <td>17044.0</td>\n",
       "      <td>17921.0</td>\n",
       "    </tr>\n",
       "    <tr>\n",
       "      <th>3</th>\n",
       "      <td>Financial income and expenses</td>\n",
       "      <td>NaN</td>\n",
       "      <td>NaN</td>\n",
       "      <td>NaN</td>\n",
       "      <td>NaN</td>\n",
       "      <td>NaN</td>\n",
       "      <td>NaN</td>\n",
       "      <td>215.0</td>\n",
       "      <td>189.0</td>\n",
       "      <td>67.0</td>\n",
       "      <td>...</td>\n",
       "      <td>97.0</td>\n",
       "      <td>206.0</td>\n",
       "      <td>96.0</td>\n",
       "      <td>57.0</td>\n",
       "      <td>158.0</td>\n",
       "      <td>264.0</td>\n",
       "      <td>85.0</td>\n",
       "      <td>412.0</td>\n",
       "      <td>39.0</td>\n",
       "      <td>245.0</td>\n",
       "    </tr>\n",
       "    <tr>\n",
       "      <th>4</th>\n",
       "      <td>Profit before income tax</td>\n",
       "      <td>676.0</td>\n",
       "      <td>699.0</td>\n",
       "      <td>171.0</td>\n",
       "      <td>-282.0</td>\n",
       "      <td>516.0</td>\n",
       "      <td>-1070.0</td>\n",
       "      <td>521.0</td>\n",
       "      <td>617.0</td>\n",
       "      <td>1498.0</td>\n",
       "      <td>...</td>\n",
       "      <td>8239.0</td>\n",
       "      <td>9491.0</td>\n",
       "      <td>12148.0</td>\n",
       "      <td>12391.0</td>\n",
       "      <td>10201.0</td>\n",
       "      <td>10510.0</td>\n",
       "      <td>10752.0</td>\n",
       "      <td>12500.0</td>\n",
       "      <td>17005.0</td>\n",
       "      <td>17676.0</td>\n",
       "    </tr>\n",
       "  </tbody>\n",
       "</table>\n",
       "<p>5 rows × 29 columns</p>\n",
       "</div>"
      ],
      "text/plain": [
       "                          (mDKK)    1995    1996    1997   1998    1999  \\\n",
       "0                        Revenue  6844.0  7534.0  7616.0  768.0  9808.0   \n",
       "1                       Expenses     NaN     NaN     NaN    NaN     NaN   \n",
       "2               Operating profit     NaN     NaN     NaN    NaN     NaN   \n",
       "3  Financial income and expenses     NaN     NaN     NaN    NaN     NaN   \n",
       "4       Profit before income tax   676.0   699.0   171.0 -282.0   516.0   \n",
       "\n",
       "      2000    2001    2002    2003  ...     2013     2014     2015     2016  \\\n",
       "0   9467.0  9000.0  9601.0  6792.0  ...  25294.0  28578.0  35780.0  37934.0   \n",
       "1      NaN  8142.0  8795.0  7902.0  ...  16958.0  18881.0  23536.0  25486.0   \n",
       "2      NaN   736.0   806.0  1565.0  ...   8336.0   9697.0  12244.0  12448.0   \n",
       "3      NaN   215.0   189.0    67.0  ...     97.0    206.0     96.0     57.0   \n",
       "4  -1070.0   521.0   617.0  1498.0  ...   8239.0   9491.0  12148.0  12391.0   \n",
       "\n",
       "      2017     2018     2019     2020     2021     2022  \n",
       "0  34995.0  36391.0  38544.0  43656.0  55294.0  64647.0  \n",
       "1  24636.0  25617.0  27707.0  30744.0  38250.0  46726.0  \n",
       "2  10359.0  10774.0  10837.0  12912.0  17044.0  17921.0  \n",
       "3    158.0    264.0     85.0    412.0     39.0    245.0  \n",
       "4  10201.0  10510.0  10752.0  12500.0  17005.0  17676.0  \n",
       "\n",
       "[5 rows x 29 columns]"
      ]
     },
     "metadata": {},
     "output_type": "display_data"
    }
   ],
   "source": [
    "display(df_global)"
   ]
  },
  {
   "cell_type": "code",
   "execution_count": 28,
   "id": "63cdde5b",
   "metadata": {},
   "outputs": [],
   "source": [
    "df_global.to_csv('./df_CA_lego_paul.csv', index=False)"
   ]
  },
  {
   "cell_type": "code",
   "execution_count": null,
   "id": "ccb237d3",
   "metadata": {},
   "outputs": [],
   "source": []
  }
 ],
 "metadata": {
  "kernelspec": {
   "display_name": "Python 3 (ipykernel)",
   "language": "python",
   "name": "python3"
  },
  "language_info": {
   "codemirror_mode": {
    "name": "ipython",
    "version": 3
   },
   "file_extension": ".py",
   "mimetype": "text/x-python",
   "name": "python",
   "nbconvert_exporter": "python",
   "pygments_lexer": "ipython3",
   "version": "3.11.3"
  }
 },
 "nbformat": 4,
 "nbformat_minor": 5
}
