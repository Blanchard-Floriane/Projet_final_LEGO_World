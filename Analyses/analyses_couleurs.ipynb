{
 "cells": [
  {
   "cell_type": "code",
   "execution_count": 1,
   "id": "f648dd10",
   "metadata": {},
   "outputs": [],
   "source": [
    "import pandas as pd\n",
    "import numpy as np\n",
    "import requests"
   ]
  },
  {
   "cell_type": "code",
   "execution_count": 24,
   "id": "781f4510",
   "metadata": {},
   "outputs": [
    {
     "data": {
      "text/html": [
       "<div>\n",
       "<style scoped>\n",
       "    .dataframe tbody tr th:only-of-type {\n",
       "        vertical-align: middle;\n",
       "    }\n",
       "\n",
       "    .dataframe tbody tr th {\n",
       "        vertical-align: top;\n",
       "    }\n",
       "\n",
       "    .dataframe thead th {\n",
       "        text-align: right;\n",
       "    }\n",
       "</style>\n",
       "<table border=\"1\" class=\"dataframe\">\n",
       "  <thead>\n",
       "    <tr style=\"text-align: right;\">\n",
       "      <th></th>\n",
       "      <th>piece_id</th>\n",
       "      <th>is_spare</th>\n",
       "      <th>couleur_id</th>\n",
       "      <th>couleur_nom</th>\n",
       "      <th>couleur_code</th>\n",
       "      <th>is_trans</th>\n",
       "      <th>set_id</th>\n",
       "      <th>set_nom</th>\n",
       "      <th>set_annee</th>\n",
       "      <th>set_nb_pieces</th>\n",
       "      <th>univers_id</th>\n",
       "      <th>univers_nom</th>\n",
       "    </tr>\n",
       "  </thead>\n",
       "  <tbody>\n",
       "    <tr>\n",
       "      <th>0</th>\n",
       "      <td>brickslot0004</td>\n",
       "      <td>f</td>\n",
       "      <td>15</td>\n",
       "      <td>White</td>\n",
       "      <td>FFFFFF</td>\n",
       "      <td>f</td>\n",
       "      <td>700.3-1</td>\n",
       "      <td>Medium Gift Set (ABB)</td>\n",
       "      <td>1949</td>\n",
       "      <td>142</td>\n",
       "      <td>365</td>\n",
       "      <td>System</td>\n",
       "    </tr>\n",
       "    <tr>\n",
       "      <th>1</th>\n",
       "      <td>brickslot0002</td>\n",
       "      <td>f</td>\n",
       "      <td>4</td>\n",
       "      <td>Red</td>\n",
       "      <td>C91A09</td>\n",
       "      <td>f</td>\n",
       "      <td>700.3-1</td>\n",
       "      <td>Medium Gift Set (ABB)</td>\n",
       "      <td>1949</td>\n",
       "      <td>142</td>\n",
       "      <td>365</td>\n",
       "      <td>System</td>\n",
       "    </tr>\n",
       "    <tr>\n",
       "      <th>2</th>\n",
       "      <td>brickslot0002</td>\n",
       "      <td>f</td>\n",
       "      <td>2</td>\n",
       "      <td>Green</td>\n",
       "      <td>237841</td>\n",
       "      <td>f</td>\n",
       "      <td>700.3-1</td>\n",
       "      <td>Medium Gift Set (ABB)</td>\n",
       "      <td>1949</td>\n",
       "      <td>142</td>\n",
       "      <td>365</td>\n",
       "      <td>System</td>\n",
       "    </tr>\n",
       "    <tr>\n",
       "      <th>3</th>\n",
       "      <td>brickslot0002</td>\n",
       "      <td>f</td>\n",
       "      <td>15</td>\n",
       "      <td>White</td>\n",
       "      <td>FFFFFF</td>\n",
       "      <td>f</td>\n",
       "      <td>700.3-1</td>\n",
       "      <td>Medium Gift Set (ABB)</td>\n",
       "      <td>1949</td>\n",
       "      <td>142</td>\n",
       "      <td>365</td>\n",
       "      <td>System</td>\n",
       "    </tr>\n",
       "    <tr>\n",
       "      <th>4</th>\n",
       "      <td>brickslot0003</td>\n",
       "      <td>f</td>\n",
       "      <td>4</td>\n",
       "      <td>Red</td>\n",
       "      <td>C91A09</td>\n",
       "      <td>f</td>\n",
       "      <td>700.3-1</td>\n",
       "      <td>Medium Gift Set (ABB)</td>\n",
       "      <td>1949</td>\n",
       "      <td>142</td>\n",
       "      <td>365</td>\n",
       "      <td>System</td>\n",
       "    </tr>\n",
       "  </tbody>\n",
       "</table>\n",
       "</div>"
      ],
      "text/plain": [
       "        piece_id is_spare  couleur_id couleur_nom couleur_code is_trans  \\\n",
       "0  brickslot0004        f          15       White       FFFFFF        f   \n",
       "1  brickslot0002        f           4         Red       C91A09        f   \n",
       "2  brickslot0002        f           2       Green       237841        f   \n",
       "3  brickslot0002        f          15       White       FFFFFF        f   \n",
       "4  brickslot0003        f           4         Red       C91A09        f   \n",
       "\n",
       "    set_id                set_nom  set_annee  set_nb_pieces  univers_id  \\\n",
       "0  700.3-1  Medium Gift Set (ABB)       1949            142         365   \n",
       "1  700.3-1  Medium Gift Set (ABB)       1949            142         365   \n",
       "2  700.3-1  Medium Gift Set (ABB)       1949            142         365   \n",
       "3  700.3-1  Medium Gift Set (ABB)       1949            142         365   \n",
       "4  700.3-1  Medium Gift Set (ABB)       1949            142         365   \n",
       "\n",
       "  univers_nom  \n",
       "0      System  \n",
       "1      System  \n",
       "2      System  \n",
       "3      System  \n",
       "4      System  "
      ]
     },
     "metadata": {},
     "output_type": "display_data"
    }
   ],
   "source": [
    "old_df = pd.read_csv('../Datas/colors.csv')\n",
    "colors = pd.read_csv('../Datas/colors_cleaned.csv')\n",
    "display(colors.head())"
   ]
  },
  {
   "cell_type": "code",
   "execution_count": 23,
   "id": "19eaaa5c",
   "metadata": {},
   "outputs": [
    {
     "name": "stdout",
     "output_type": "stream",
     "text": [
      "Nombre de couleurs de la gamme LEGO en 2023 : 231\n",
      "Versus nombre de couleurs de la gamme LEGO utilisés en 2023 : 219\n",
      "Soit 12 existantes mais non listées au sein des sets de jeux.\n"
     ]
    }
   ],
   "source": [
    "nb_couleur = old_df['id'].nunique()\n",
    "nb_couleurs_utilisées = colors['couleur_id'].nunique()\n",
    "\n",
    "print('Nombre de couleurs de la gamme LEGO en 2023 :', nb_couleur)\n",
    "print('Versus nombre de couleurs de la gamme LEGO utilisés en 2023 :', nb_couleurs_utilisées)\n",
    "print('Soit', nb_couleur - nb_couleurs_utilisées, 'existantes mais non listées au sein des sets de jeux.')"
   ]
  },
  {
   "cell_type": "code",
   "execution_count": 25,
   "id": "787bbaa5",
   "metadata": {},
   "outputs": [
    {
     "ename": "SyntaxError",
     "evalue": "expression cannot contain assignment, perhaps you meant \"==\"? (563192846.py, line 1)",
     "output_type": "error",
     "traceback": [
      "\u001b[0;36m  Cell \u001b[0;32mIn[25], line 1\u001b[0;36m\u001b[0m\n\u001b[0;31m    options(repr.plot.width=7, repr.plot.height=6)\u001b[0m\n\u001b[0m            ^\u001b[0m\n\u001b[0;31mSyntaxError\u001b[0m\u001b[0;31m:\u001b[0m expression cannot contain assignment, perhaps you meant \"==\"?\n"
     ]
    }
   ],
   "source": [
    "options(repr.plot.width=7, repr.plot.height=6)\n",
    "set_color%>%select(set_annee,couleur_nom,couleur_code)%>%group_by(set_annee,couleur_nom,couleur_code)%>%summarise(col_cnt=n())%>%arrange(desc(col_cnt))%>%ggplot(aes(x=year,y=1,fill=rgb))+geom_bar(stat=\"identity\")+theme(legend.position = \"none\")+scale_fill_manual(values=my_color)+labs(title=\" Unique Lego Colors in Years\",y=\"\")"
   ]
  },
  {
   "cell_type": "code",
   "execution_count": null,
   "id": "b15b54af",
   "metadata": {},
   "outputs": [],
   "source": []
  }
 ],
 "metadata": {
  "kernelspec": {
   "display_name": "Python 3 (ipykernel)",
   "language": "python",
   "name": "python3"
  },
  "language_info": {
   "codemirror_mode": {
    "name": "ipython",
    "version": 3
   },
   "file_extension": ".py",
   "mimetype": "text/x-python",
   "name": "python",
   "nbconvert_exporter": "python",
   "pygments_lexer": "ipython3",
   "version": "3.11.3"
  }
 },
 "nbformat": 4,
 "nbformat_minor": 5
}
