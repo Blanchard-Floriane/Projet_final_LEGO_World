{
 "cells": [
  {
   "cell_type": "code",
   "execution_count": 17,
   "id": "696f749a",
   "metadata": {},
   "outputs": [],
   "source": [
    "import pandas as pd\n",
    "import numpy as np\n",
    "import re\n",
    "import datetime\n",
    "from datetime import timedelta\n",
    "import matplotlib.pyplot as plt\n",
    "import seaborn as sns"
   ]
  },
  {
   "cell_type": "code",
   "execution_count": 4,
   "id": "f6e223a7",
   "metadata": {},
   "outputs": [],
   "source": [
    "df_parts = pd.read_csv(\"../Datas/df_parts_an_c_paul.csv\")"
   ]
  },
  {
   "cell_type": "code",
   "execution_count": 5,
   "id": "a6a35a6f",
   "metadata": {},
   "outputs": [
    {
     "data": {
      "text/html": [
       "<div>\n",
       "<style scoped>\n",
       "    .dataframe tbody tr th:only-of-type {\n",
       "        vertical-align: middle;\n",
       "    }\n",
       "\n",
       "    .dataframe tbody tr th {\n",
       "        vertical-align: top;\n",
       "    }\n",
       "\n",
       "    .dataframe thead th {\n",
       "        text-align: right;\n",
       "    }\n",
       "</style>\n",
       "<table border=\"1\" class=\"dataframe\">\n",
       "  <thead>\n",
       "    <tr style=\"text-align: right;\">\n",
       "      <th></th>\n",
       "      <th>inventory_id</th>\n",
       "      <th>part_num</th>\n",
       "      <th>color_id</th>\n",
       "      <th>quantity</th>\n",
       "      <th>is_spare</th>\n",
       "      <th>name_part</th>\n",
       "      <th>part_cat_id</th>\n",
       "      <th>part_material</th>\n",
       "      <th>name_color</th>\n",
       "      <th>rgb</th>\n",
       "      <th>name_cat</th>\n",
       "      <th>version</th>\n",
       "      <th>set_num</th>\n",
       "      <th>name_sets</th>\n",
       "      <th>year</th>\n",
       "      <th>theme_id</th>\n",
       "      <th>name_univ</th>\n",
       "    </tr>\n",
       "  </thead>\n",
       "  <tbody>\n",
       "    <tr>\n",
       "      <th>144141</th>\n",
       "      <td>5750</td>\n",
       "      <td>56093</td>\n",
       "      <td>1080</td>\n",
       "      <td>1</td>\n",
       "      <td>f</td>\n",
       "      <td>Animal, Lemur (Momo)</td>\n",
       "      <td>28</td>\n",
       "      <td>Plastic</td>\n",
       "      <td>Light Tan</td>\n",
       "      <td>F3C988</td>\n",
       "      <td>Plants and Animals</td>\n",
       "      <td>1</td>\n",
       "      <td>3828-1</td>\n",
       "      <td>Air Temple</td>\n",
       "      <td>2006.0</td>\n",
       "      <td>317.0</td>\n",
       "      <td>Avatar: The Last Airbender</td>\n",
       "    </tr>\n",
       "  </tbody>\n",
       "</table>\n",
       "</div>"
      ],
      "text/plain": [
       "        inventory_id part_num  color_id  quantity is_spare  \\\n",
       "144141          5750    56093      1080         1        f   \n",
       "\n",
       "                   name_part  part_cat_id part_material name_color     rgb  \\\n",
       "144141  Animal, Lemur (Momo)           28       Plastic  Light Tan  F3C988   \n",
       "\n",
       "                  name_cat  version set_num   name_sets    year  theme_id  \\\n",
       "144141  Plants and Animals        1  3828-1  Air Temple  2006.0     317.0   \n",
       "\n",
       "                         name_univ  \n",
       "144141  Avatar: The Last Airbender  "
      ]
     },
     "execution_count": 5,
     "metadata": {},
     "output_type": "execute_result"
    }
   ],
   "source": [
    "df_parts.loc[df_parts[\"part_num\"] == \"56093\"].head()"
   ]
  },
  {
   "cell_type": "raw",
   "id": "289e1972",
   "metadata": {},
   "source": [
    "Nombre de Pièces unique :"
   ]
  },
  {
   "cell_type": "code",
   "execution_count": 6,
   "id": "3f1df502",
   "metadata": {},
   "outputs": [
    {
     "data": {
      "text/plain": [
       "50177"
      ]
     },
     "execution_count": 6,
     "metadata": {},
     "output_type": "execute_result"
    }
   ],
   "source": [
    "df_parts[\"name_part\"].nunique()"
   ]
  },
  {
   "cell_type": "raw",
   "id": "3dde04ef",
   "metadata": {},
   "source": [
    "Matériel utilisée"
   ]
  },
  {
   "cell_type": "code",
   "execution_count": 7,
   "id": "a74eee3b",
   "metadata": {},
   "outputs": [
    {
     "data": {
      "text/plain": [
       "Foam                 0.01\n",
       "Metal                0.01\n",
       "Flexible Plastic     0.02\n",
       "Cloth                0.17\n",
       "Cardboard/Paper      0.20\n",
       "Rubber               0.72\n",
       "Plastic             98.87\n",
       "Name: part_material, dtype: float64"
      ]
     },
     "execution_count": 7,
     "metadata": {},
     "output_type": "execute_result"
    }
   ],
   "source": [
    "df_parts[\"part_material\"].value_counts(normalize = True, ascending=True).round(4)*100"
   ]
  },
  {
   "cell_type": "code",
   "execution_count": 8,
   "id": "3f9817f5",
   "metadata": {},
   "outputs": [
    {
     "data": {
      "image/png": "[encoded data removed]",
      "text/plain": [
       "<Figure size 800x600 with 1 Axes>"
      ]
     },
     "metadata": {},
     "output_type": "display_data"
    }
   ],
   "source": [
    "plt.figure(figsize=(8, 6))\n",
    "plt.pie(df_parts[\"part_material\"].value_counts(normalize = True, ascending=True).round(4)*100)\n",
    "\n",
    "plt.show()"
   ]
  },
  {
   "cell_type": "code",
   "execution_count": 9,
   "id": "005c4679",
   "metadata": {},
   "outputs": [
    {
     "data": {
      "text/html": [
       "<div>\n",
       "<style scoped>\n",
       "    .dataframe tbody tr th:only-of-type {\n",
       "        vertical-align: middle;\n",
       "    }\n",
       "\n",
       "    .dataframe tbody tr th {\n",
       "        vertical-align: top;\n",
       "    }\n",
       "\n",
       "    .dataframe thead th {\n",
       "        text-align: right;\n",
       "    }\n",
       "</style>\n",
       "<table border=\"1\" class=\"dataframe\">\n",
       "  <thead>\n",
       "    <tr style=\"text-align: right;\">\n",
       "      <th>year</th>\n",
       "      <th>1949.0</th>\n",
       "      <th>1950.0</th>\n",
       "      <th>1953.0</th>\n",
       "      <th>1954.0</th>\n",
       "      <th>1955.0</th>\n",
       "      <th>1956.0</th>\n",
       "      <th>1957.0</th>\n",
       "      <th>1958.0</th>\n",
       "      <th>1959.0</th>\n",
       "      <th>1960.0</th>\n",
       "      <th>...</th>\n",
       "      <th>2014.0</th>\n",
       "      <th>2015.0</th>\n",
       "      <th>2016.0</th>\n",
       "      <th>2017.0</th>\n",
       "      <th>2018.0</th>\n",
       "      <th>2019.0</th>\n",
       "      <th>2020.0</th>\n",
       "      <th>2021.0</th>\n",
       "      <th>2022.0</th>\n",
       "      <th>2023.0</th>\n",
       "    </tr>\n",
       "    <tr>\n",
       "      <th>part_material</th>\n",
       "      <th></th>\n",
       "      <th></th>\n",
       "      <th></th>\n",
       "      <th></th>\n",
       "      <th></th>\n",
       "      <th></th>\n",
       "      <th></th>\n",
       "      <th></th>\n",
       "      <th></th>\n",
       "      <th></th>\n",
       "      <th></th>\n",
       "      <th></th>\n",
       "      <th></th>\n",
       "      <th></th>\n",
       "      <th></th>\n",
       "      <th></th>\n",
       "      <th></th>\n",
       "      <th></th>\n",
       "      <th></th>\n",
       "      <th></th>\n",
       "      <th></th>\n",
       "    </tr>\n",
       "  </thead>\n",
       "  <tbody>\n",
       "    <tr>\n",
       "      <th>Cardboard/Paper</th>\n",
       "      <td>0.0</td>\n",
       "      <td>0.0</td>\n",
       "      <td>0.0</td>\n",
       "      <td>0.0</td>\n",
       "      <td>0.0</td>\n",
       "      <td>0.0</td>\n",
       "      <td>0.0</td>\n",
       "      <td>0.0</td>\n",
       "      <td>0.0</td>\n",
       "      <td>0.0</td>\n",
       "      <td>...</td>\n",
       "      <td>87.0</td>\n",
       "      <td>26.0</td>\n",
       "      <td>263.0</td>\n",
       "      <td>474.0</td>\n",
       "      <td>121.0</td>\n",
       "      <td>13.0</td>\n",
       "      <td>165.0</td>\n",
       "      <td>12.0</td>\n",
       "      <td>7.0</td>\n",
       "      <td>1.0</td>\n",
       "    </tr>\n",
       "    <tr>\n",
       "      <th>Cloth</th>\n",
       "      <td>0.0</td>\n",
       "      <td>0.0</td>\n",
       "      <td>0.0</td>\n",
       "      <td>0.0</td>\n",
       "      <td>0.0</td>\n",
       "      <td>0.0</td>\n",
       "      <td>0.0</td>\n",
       "      <td>0.0</td>\n",
       "      <td>0.0</td>\n",
       "      <td>0.0</td>\n",
       "      <td>...</td>\n",
       "      <td>37.0</td>\n",
       "      <td>43.0</td>\n",
       "      <td>28.0</td>\n",
       "      <td>36.0</td>\n",
       "      <td>31.0</td>\n",
       "      <td>26.0</td>\n",
       "      <td>44.0</td>\n",
       "      <td>51.0</td>\n",
       "      <td>15.0</td>\n",
       "      <td>28.0</td>\n",
       "    </tr>\n",
       "    <tr>\n",
       "      <th>Flexible Plastic</th>\n",
       "      <td>0.0</td>\n",
       "      <td>0.0</td>\n",
       "      <td>0.0</td>\n",
       "      <td>0.0</td>\n",
       "      <td>0.0</td>\n",
       "      <td>0.0</td>\n",
       "      <td>0.0</td>\n",
       "      <td>0.0</td>\n",
       "      <td>0.0</td>\n",
       "      <td>0.0</td>\n",
       "      <td>...</td>\n",
       "      <td>0.0</td>\n",
       "      <td>0.0</td>\n",
       "      <td>10.0</td>\n",
       "      <td>15.0</td>\n",
       "      <td>22.0</td>\n",
       "      <td>16.0</td>\n",
       "      <td>24.0</td>\n",
       "      <td>14.0</td>\n",
       "      <td>26.0</td>\n",
       "      <td>23.0</td>\n",
       "    </tr>\n",
       "    <tr>\n",
       "      <th>Foam</th>\n",
       "      <td>0.0</td>\n",
       "      <td>0.0</td>\n",
       "      <td>0.0</td>\n",
       "      <td>0.0</td>\n",
       "      <td>0.0</td>\n",
       "      <td>0.0</td>\n",
       "      <td>0.0</td>\n",
       "      <td>0.0</td>\n",
       "      <td>0.0</td>\n",
       "      <td>0.0</td>\n",
       "      <td>...</td>\n",
       "      <td>0.0</td>\n",
       "      <td>1.0</td>\n",
       "      <td>0.0</td>\n",
       "      <td>2.0</td>\n",
       "      <td>0.0</td>\n",
       "      <td>0.0</td>\n",
       "      <td>0.0</td>\n",
       "      <td>0.0</td>\n",
       "      <td>0.0</td>\n",
       "      <td>0.0</td>\n",
       "    </tr>\n",
       "    <tr>\n",
       "      <th>Metal</th>\n",
       "      <td>0.0</td>\n",
       "      <td>0.0</td>\n",
       "      <td>0.0</td>\n",
       "      <td>0.0</td>\n",
       "      <td>0.0</td>\n",
       "      <td>0.0</td>\n",
       "      <td>0.0</td>\n",
       "      <td>0.0</td>\n",
       "      <td>0.0</td>\n",
       "      <td>0.0</td>\n",
       "      <td>...</td>\n",
       "      <td>5.0</td>\n",
       "      <td>2.0</td>\n",
       "      <td>2.0</td>\n",
       "      <td>0.0</td>\n",
       "      <td>5.0</td>\n",
       "      <td>0.0</td>\n",
       "      <td>0.0</td>\n",
       "      <td>0.0</td>\n",
       "      <td>0.0</td>\n",
       "      <td>1.0</td>\n",
       "    </tr>\n",
       "    <tr>\n",
       "      <th>Plastic</th>\n",
       "      <td>171.0</td>\n",
       "      <td>22.0</td>\n",
       "      <td>26.0</td>\n",
       "      <td>109.0</td>\n",
       "      <td>243.0</td>\n",
       "      <td>152.0</td>\n",
       "      <td>285.0</td>\n",
       "      <td>653.0</td>\n",
       "      <td>18.0</td>\n",
       "      <td>70.0</td>\n",
       "      <td>...</td>\n",
       "      <td>42993.0</td>\n",
       "      <td>50016.0</td>\n",
       "      <td>51166.0</td>\n",
       "      <td>56832.0</td>\n",
       "      <td>58577.0</td>\n",
       "      <td>64055.0</td>\n",
       "      <td>72254.0</td>\n",
       "      <td>79004.0</td>\n",
       "      <td>75822.0</td>\n",
       "      <td>69449.0</td>\n",
       "    </tr>\n",
       "    <tr>\n",
       "      <th>Rubber</th>\n",
       "      <td>0.0</td>\n",
       "      <td>0.0</td>\n",
       "      <td>0.0</td>\n",
       "      <td>0.0</td>\n",
       "      <td>0.0</td>\n",
       "      <td>0.0</td>\n",
       "      <td>0.0</td>\n",
       "      <td>0.0</td>\n",
       "      <td>1.0</td>\n",
       "      <td>0.0</td>\n",
       "      <td>...</td>\n",
       "      <td>336.0</td>\n",
       "      <td>323.0</td>\n",
       "      <td>276.0</td>\n",
       "      <td>316.0</td>\n",
       "      <td>284.0</td>\n",
       "      <td>312.0</td>\n",
       "      <td>335.0</td>\n",
       "      <td>352.0</td>\n",
       "      <td>319.0</td>\n",
       "      <td>239.0</td>\n",
       "    </tr>\n",
       "  </tbody>\n",
       "</table>\n",
       "<p>7 rows × 73 columns</p>\n",
       "</div>"
      ],
      "text/plain": [
       "year              1949.0  1950.0  1953.0  1954.0  1955.0  1956.0  1957.0  \\\n",
       "part_material                                                              \n",
       "Cardboard/Paper      0.0     0.0     0.0     0.0     0.0     0.0     0.0   \n",
       "Cloth                0.0     0.0     0.0     0.0     0.0     0.0     0.0   \n",
       "Flexible Plastic     0.0     0.0     0.0     0.0     0.0     0.0     0.0   \n",
       "Foam                 0.0     0.0     0.0     0.0     0.0     0.0     0.0   \n",
       "Metal                0.0     0.0     0.0     0.0     0.0     0.0     0.0   \n",
       "Plastic            171.0    22.0    26.0   109.0   243.0   152.0   285.0   \n",
       "Rubber               0.0     0.0     0.0     0.0     0.0     0.0     0.0   \n",
       "\n",
       "year              1958.0  1959.0  1960.0  ...   2014.0   2015.0   2016.0  \\\n",
       "part_material                             ...                              \n",
       "Cardboard/Paper      0.0     0.0     0.0  ...     87.0     26.0    263.0   \n",
       "Cloth                0.0     0.0     0.0  ...     37.0     43.0     28.0   \n",
       "Flexible Plastic     0.0     0.0     0.0  ...      0.0      0.0     10.0   \n",
       "Foam                 0.0     0.0     0.0  ...      0.0      1.0      0.0   \n",
       "Metal                0.0     0.0     0.0  ...      5.0      2.0      2.0   \n",
       "Plastic            653.0    18.0    70.0  ...  42993.0  50016.0  51166.0   \n",
       "Rubber               0.0     1.0     0.0  ...    336.0    323.0    276.0   \n",
       "\n",
       "year               2017.0   2018.0   2019.0   2020.0   2021.0   2022.0  \\\n",
       "part_material                                                            \n",
       "Cardboard/Paper     474.0    121.0     13.0    165.0     12.0      7.0   \n",
       "Cloth                36.0     31.0     26.0     44.0     51.0     15.0   \n",
       "Flexible Plastic     15.0     22.0     16.0     24.0     14.0     26.0   \n",
       "Foam                  2.0      0.0      0.0      0.0      0.0      0.0   \n",
       "Metal                 0.0      5.0      0.0      0.0      0.0      0.0   \n",
       "Plastic           56832.0  58577.0  64055.0  72254.0  79004.0  75822.0   \n",
       "Rubber              316.0    284.0    312.0    335.0    352.0    319.0   \n",
       "\n",
       "year               2023.0  \n",
       "part_material              \n",
       "Cardboard/Paper       1.0  \n",
       "Cloth                28.0  \n",
       "Flexible Plastic     23.0  \n",
       "Foam                  0.0  \n",
       "Metal                 1.0  \n",
       "Plastic           69449.0  \n",
       "Rubber              239.0  \n",
       "\n",
       "[7 rows x 73 columns]"
      ]
     },
     "metadata": {},
     "output_type": "display_data"
    }
   ],
   "source": [
    "display(df_parts.groupby(\"part_material\")[\"year\"].value_counts(ascending=True).unstack().fillna(0))"
   ]
  },
  {
   "cell_type": "raw",
   "id": "bfdfc058",
   "metadata": {},
   "source": [
    "Nombre de pièce disponible par an / interoger prendre en compte les valeurs extrèmes"
   ]
  },
  {
   "cell_type": "code",
   "execution_count": 10,
   "id": "1d8f881e",
   "metadata": {},
   "outputs": [
    {
     "data": {
      "text/plain": [
       "Int64Index([1949, 1954, 1957, 1960, 1963, 1966, 1969, 1972, 1975, 1978, 1981,\n",
       "            1984, 1987, 1990, 1993, 1996, 1999, 2002, 2005, 2008, 2011, 2014,\n",
       "            2017, 2020, 2023],\n",
       "           dtype='int64', name='year')"
      ]
     },
     "execution_count": 10,
     "metadata": {},
     "output_type": "execute_result"
    }
   ],
   "source": [
    "df_parts_by_years = df_parts.groupby(\"year\")[\"part_num\"].count()\n",
    "df_parts_by_years.index[::3].astype(int)"
   ]
  },
  {
   "cell_type": "code",
   "execution_count": 11,
   "id": "6e4e345b",
   "metadata": {},
   "outputs": [
    {
     "data": {
      "image/png": "[encoded data removed]",
      "text/plain": [
       "<Figure size 800x600 with 1 Axes>"
      ]
     },
     "metadata": {},
     "output_type": "display_data"
    }
   ],
   "source": [
    "plt.figure(figsize=(8, 6))\n",
    "plt.plot(df_parts_by_years, label='Nb of parts')\n",
    "\n",
    "plt.xticks(df_parts_by_years.index[::7].astype(int), df_parts_by_years.index[::7].astype(int))\n",
    "\n",
    "plt.show()"
   ]
  },
  {
   "cell_type": "raw",
   "id": "4b07561d",
   "metadata": {},
   "source": [
    "Proportion des pièce de rechange dans les boites attention, par pièce et par boite"
   ]
  },
  {
   "cell_type": "code",
   "execution_count": 12,
   "id": "578c3225",
   "metadata": {},
   "outputs": [
    {
     "data": {
      "text/html": [
       "<div>\n",
       "<style scoped>\n",
       "    .dataframe tbody tr th:only-of-type {\n",
       "        vertical-align: middle;\n",
       "    }\n",
       "\n",
       "    .dataframe tbody tr th {\n",
       "        vertical-align: top;\n",
       "    }\n",
       "\n",
       "    .dataframe thead th {\n",
       "        text-align: right;\n",
       "    }\n",
       "</style>\n",
       "<table border=\"1\" class=\"dataframe\">\n",
       "  <thead>\n",
       "    <tr style=\"text-align: right;\">\n",
       "      <th>is_spare</th>\n",
       "      <th>f</th>\n",
       "      <th>t</th>\n",
       "      <th>% de pièce de rechange</th>\n",
       "      <th>% de pièce de principale</th>\n",
       "    </tr>\n",
       "    <tr>\n",
       "      <th>year</th>\n",
       "      <th></th>\n",
       "      <th></th>\n",
       "      <th></th>\n",
       "      <th></th>\n",
       "    </tr>\n",
       "  </thead>\n",
       "  <tbody>\n",
       "    <tr>\n",
       "      <th>1949.0</th>\n",
       "      <td>171.0</td>\n",
       "      <td>0.0</td>\n",
       "      <td>0.00</td>\n",
       "      <td>100.00</td>\n",
       "    </tr>\n",
       "    <tr>\n",
       "      <th>1950.0</th>\n",
       "      <td>22.0</td>\n",
       "      <td>0.0</td>\n",
       "      <td>0.00</td>\n",
       "      <td>100.00</td>\n",
       "    </tr>\n",
       "    <tr>\n",
       "      <th>1953.0</th>\n",
       "      <td>26.0</td>\n",
       "      <td>0.0</td>\n",
       "      <td>0.00</td>\n",
       "      <td>100.00</td>\n",
       "    </tr>\n",
       "    <tr>\n",
       "      <th>1954.0</th>\n",
       "      <td>109.0</td>\n",
       "      <td>0.0</td>\n",
       "      <td>0.00</td>\n",
       "      <td>100.00</td>\n",
       "    </tr>\n",
       "    <tr>\n",
       "      <th>1955.0</th>\n",
       "      <td>241.0</td>\n",
       "      <td>2.0</td>\n",
       "      <td>0.82</td>\n",
       "      <td>99.18</td>\n",
       "    </tr>\n",
       "    <tr>\n",
       "      <th>...</th>\n",
       "      <td>...</td>\n",
       "      <td>...</td>\n",
       "      <td>...</td>\n",
       "      <td>...</td>\n",
       "    </tr>\n",
       "    <tr>\n",
       "      <th>2019.0</th>\n",
       "      <td>58736.0</td>\n",
       "      <td>5686.0</td>\n",
       "      <td>8.83</td>\n",
       "      <td>91.17</td>\n",
       "    </tr>\n",
       "    <tr>\n",
       "      <th>2020.0</th>\n",
       "      <td>66154.0</td>\n",
       "      <td>6668.0</td>\n",
       "      <td>9.16</td>\n",
       "      <td>90.84</td>\n",
       "    </tr>\n",
       "    <tr>\n",
       "      <th>2021.0</th>\n",
       "      <td>71581.0</td>\n",
       "      <td>7852.0</td>\n",
       "      <td>9.89</td>\n",
       "      <td>90.11</td>\n",
       "    </tr>\n",
       "    <tr>\n",
       "      <th>2022.0</th>\n",
       "      <td>69022.0</td>\n",
       "      <td>7167.0</td>\n",
       "      <td>9.41</td>\n",
       "      <td>90.59</td>\n",
       "    </tr>\n",
       "    <tr>\n",
       "      <th>2023.0</th>\n",
       "      <td>64954.0</td>\n",
       "      <td>4787.0</td>\n",
       "      <td>6.86</td>\n",
       "      <td>93.14</td>\n",
       "    </tr>\n",
       "  </tbody>\n",
       "</table>\n",
       "<p>73 rows × 4 columns</p>\n",
       "</div>"
      ],
      "text/plain": [
       "is_spare        f       t  % de pièce de rechange  % de pièce de principale\n",
       "year                                                                       \n",
       "1949.0      171.0     0.0                    0.00                    100.00\n",
       "1950.0       22.0     0.0                    0.00                    100.00\n",
       "1953.0       26.0     0.0                    0.00                    100.00\n",
       "1954.0      109.0     0.0                    0.00                    100.00\n",
       "1955.0      241.0     2.0                    0.82                     99.18\n",
       "...           ...     ...                     ...                       ...\n",
       "2019.0    58736.0  5686.0                    8.83                     91.17\n",
       "2020.0    66154.0  6668.0                    9.16                     90.84\n",
       "2021.0    71581.0  7852.0                    9.89                     90.11\n",
       "2022.0    69022.0  7167.0                    9.41                     90.59\n",
       "2023.0    64954.0  4787.0                    6.86                     93.14\n",
       "\n",
       "[73 rows x 4 columns]"
      ]
     },
     "metadata": {},
     "output_type": "display_data"
    }
   ],
   "source": [
    "df_spare = df_parts.groupby(\"year\")[\"is_spare\"].value_counts().unstack().fillna(0)\n",
    "df_spare[\"% de pièce de rechange\"] = ((df_spare[\"t\"]/(df_spare[\"f\"]+df_spare[\"t\"]))*100).round(2)\n",
    "df_spare[\"% de pièce de principale\"] = ((df_spare[\"f\"]/(df_spare[\"f\"]+df_spare[\"t\"]))*100).round(2)\n",
    "display(df_spare)"
   ]
  },
  {
   "cell_type": "code",
   "execution_count": 14,
   "id": "1126c84a",
   "metadata": {},
   "outputs": [],
   "source": [
    "#df_spare.iloc[:,(2,3)].plot(kind='bar')\n",
    "#plt.show()"
   ]
  },
  {
   "cell_type": "raw",
   "id": "26b1815d",
   "metadata": {},
   "source": [
    "Les pièce les plus utiliser de tous les temps"
   ]
  },
  {
   "cell_type": "code",
   "execution_count": 15,
   "id": "9db87387",
   "metadata": {},
   "outputs": [
    {
     "data": {
      "text/html": [
       "<div>\n",
       "<style scoped>\n",
       "    .dataframe tbody tr th:only-of-type {\n",
       "        vertical-align: middle;\n",
       "    }\n",
       "\n",
       "    .dataframe tbody tr th {\n",
       "        vertical-align: top;\n",
       "    }\n",
       "\n",
       "    .dataframe thead th {\n",
       "        text-align: right;\n",
       "    }\n",
       "</style>\n",
       "<table border=\"1\" class=\"dataframe\">\n",
       "  <thead>\n",
       "    <tr style=\"text-align: right;\">\n",
       "      <th></th>\n",
       "      <th>name_part</th>\n",
       "      <th>quantity</th>\n",
       "    </tr>\n",
       "  </thead>\n",
       "  <tbody>\n",
       "    <tr>\n",
       "      <th>0</th>\n",
       "      <td>Plate 1 x 2</td>\n",
       "      <td>125719</td>\n",
       "    </tr>\n",
       "    <tr>\n",
       "      <th>1</th>\n",
       "      <td>Plate Round 1 x 1 with Solid Stud</td>\n",
       "      <td>117462</td>\n",
       "    </tr>\n",
       "    <tr>\n",
       "      <th>2</th>\n",
       "      <td>Brick 1 x 2</td>\n",
       "      <td>99181</td>\n",
       "    </tr>\n",
       "    <tr>\n",
       "      <th>3</th>\n",
       "      <td>Plate 1 x 1</td>\n",
       "      <td>90551</td>\n",
       "    </tr>\n",
       "    <tr>\n",
       "      <th>4</th>\n",
       "      <td>Brick 1 x 1</td>\n",
       "      <td>74886</td>\n",
       "    </tr>\n",
       "    <tr>\n",
       "      <th>...</th>\n",
       "      <td>...</td>\n",
       "      <td>...</td>\n",
       "    </tr>\n",
       "    <tr>\n",
       "      <th>50172</th>\n",
       "      <td>Minifig Head Leonard Hofstadter, Dual Sided, G...</td>\n",
       "      <td>1</td>\n",
       "    </tr>\n",
       "    <tr>\n",
       "      <th>50173</th>\n",
       "      <td>Minifig Head Leia, Female, Dark Tan Eyebrows, ...</td>\n",
       "      <td>1</td>\n",
       "    </tr>\n",
       "    <tr>\n",
       "      <th>50174</th>\n",
       "      <td>Minifig Head Leia, Dual Sided, Female Brown Ey...</td>\n",
       "      <td>1</td>\n",
       "    </tr>\n",
       "    <tr>\n",
       "      <th>50175</th>\n",
       "      <td>Minifig Head Leia, Dual Sided, Dark Tan Eyebro...</td>\n",
       "      <td>1</td>\n",
       "    </tr>\n",
       "    <tr>\n",
       "      <th>50176</th>\n",
       "      <td>inidoll Torso Girl with Bright Light Blue Shir...</td>\n",
       "      <td>1</td>\n",
       "    </tr>\n",
       "  </tbody>\n",
       "</table>\n",
       "<p>50177 rows × 2 columns</p>\n",
       "</div>"
      ],
      "text/plain": [
       "                                               name_part  quantity\n",
       "0                                            Plate 1 x 2    125719\n",
       "1                      Plate Round 1 x 1 with Solid Stud    117462\n",
       "2                                            Brick 1 x 2     99181\n",
       "3                                            Plate 1 x 1     90551\n",
       "4                                            Brick 1 x 1     74886\n",
       "...                                                  ...       ...\n",
       "50172  Minifig Head Leonard Hofstadter, Dual Sided, G...         1\n",
       "50173  Minifig Head Leia, Female, Dark Tan Eyebrows, ...         1\n",
       "50174  Minifig Head Leia, Dual Sided, Female Brown Ey...         1\n",
       "50175  Minifig Head Leia, Dual Sided, Dark Tan Eyebro...         1\n",
       "50176  inidoll Torso Girl with Bright Light Blue Shir...         1\n",
       "\n",
       "[50177 rows x 2 columns]"
      ]
     },
     "execution_count": 15,
     "metadata": {},
     "output_type": "execute_result"
    }
   ],
   "source": [
    "df_most_used_alltime = df_parts.groupby(\"name_part\")[\"quantity\"].sum()\n",
    "df_most_used_alltime.sort_values(ascending=False, inplace=True)\n",
    "df_most_used_alltime = df_most_used_alltime.to_frame().reset_index()\n",
    "df_most_used_alltime"
   ]
  },
  {
   "cell_type": "code",
   "execution_count": 1,
   "id": "efd4a6d4",
   "metadata": {},
   "outputs": [
    {
     "ename": "NameError",
     "evalue": "name 'pd' is not defined",
     "output_type": "error",
     "traceback": [
      "\u001b[0;31m---------------------------------------------------------------------------\u001b[0m",
      "\u001b[0;31mNameError\u001b[0m                                 Traceback (most recent call last)",
      "Cell \u001b[0;32mIn[1], line 2\u001b[0m\n\u001b[1;32m      1\u001b[0m \u001b[38;5;66;03m# Créer un tableau croisé des deux variables\u001b[39;00m\n\u001b[0;32m----> 2\u001b[0m cross_tab \u001b[38;5;241m=\u001b[39m pd\u001b[38;5;241m.\u001b[39mcrosstab(df_most_used_alltime[\u001b[38;5;124m'\u001b[39m\u001b[38;5;124mname_part\u001b[39m\u001b[38;5;124m'\u001b[39m], df_most_used_alltime[\u001b[38;5;124m'\u001b[39m\u001b[38;5;124mquantity\u001b[39m\u001b[38;5;124m'\u001b[39m])\n\u001b[1;32m      4\u001b[0m \u001b[38;5;66;03m# Créer le graphique en mosaïque\u001b[39;00m\n\u001b[1;32m      5\u001b[0m mosaic(cross_tab\u001b[38;5;241m.\u001b[39mstack(), title\u001b[38;5;241m=\u001b[39m\u001b[38;5;124m\"\u001b[39m\u001b[38;5;124mMosaic Plot\u001b[39m\u001b[38;5;124m\"\u001b[39m)\n",
      "\u001b[0;31mNameError\u001b[0m: name 'pd' is not defined"
     ]
    }
   ],
   "source": [
    "# Créer un tableau croisé des deux variables\n",
    "cross_tab = pd.crosstab(df_most_used_alltime['name_part'], df_most_used_alltime['quantity'])"
   ]
  },
  {
   "cell_type": "raw",
   "id": "a1b2a9b7",
   "metadata": {},
   "source": [
    "pièce unique"
   ]
  },
  {
   "cell_type": "code",
   "execution_count": 12,
   "id": "1eea001e",
   "metadata": {},
   "outputs": [
    {
     "data": {
      "text/plain": [
       "28038"
      ]
     },
     "execution_count": 12,
     "metadata": {},
     "output_type": "execute_result"
    }
   ],
   "source": [
    "unique_parts = df_most_used_alltime[df_most_used_alltime == 1]\n",
    "unique_parts.count()"
   ]
  },
  {
   "cell_type": "raw",
   "id": "3b05dc77",
   "metadata": {},
   "source": [
    "Univers avec les plus de pièce uniuqe"
   ]
  },
  {
   "cell_type": "code",
   "execution_count": 13,
   "id": "a6a13c37",
   "metadata": {},
   "outputs": [],
   "source": [
    "unique_parts_i = unique_parts.index\n",
    "unique_parts_i = np.array(unique_parts_i)"
   ]
  },
  {
   "cell_type": "code",
   "execution_count": 14,
   "id": "01770bc8",
   "metadata": {},
   "outputs": [
    {
     "data": {
      "text/plain": [
       "Database Sets                     3102\n",
       "Duplo and Explore                  636\n",
       "Ninjago                            584\n",
       "Star Wars                          520\n",
       "Town                               507\n",
       "Gear                               474\n",
       "Friends                            460\n",
       "Technic                            365\n",
       "Duplo                              336\n",
       "Racers                             330\n",
       "Stationery and Office Supplies     321\n",
       "Brickheadz                         238\n",
       "Jurassic World                     230\n",
       "Supplemental                       226\n",
       "Scala                              222\n",
       "Belville                           219\n",
       "Harry Potter                       218\n",
       "Speedorz                           184\n",
       "Clikits                            176\n",
       "Classic Town                       175\n",
       "Name: name_univ, dtype: int64"
      ]
     },
     "execution_count": 14,
     "metadata": {},
     "output_type": "execute_result"
    }
   ],
   "source": [
    "uniuqe_df = df_parts.loc[df_parts[\"name_part\"].isin(unique_parts_i)]\n",
    "uniuqe_df[\"name_univ\"].value_counts().head(20)"
   ]
  },
  {
   "cell_type": "raw",
   "id": "988f874b",
   "metadata": {},
   "source": [
    "le set qui contient le plus de pièce unique"
   ]
  },
  {
   "cell_type": "code",
   "execution_count": 15,
   "id": "168aef90",
   "metadata": {},
   "outputs": [
    {
     "data": {
      "text/plain": [
       "Unused Modulex parts sold by LEGO                              822\n",
       "Bionicle Trading Card Game - Quest for the Mask - All Cards    310\n",
       "Ninjago Trading Card Game - Series 2 Database Set              234\n",
       "Ninjago Trading Card Game - Series 1 Database Set              200\n",
       "Animal Mosaic Puzzle                                           152\n",
       "Unused Parts Database Set - Pre-1965                           151\n",
       "Create the World Trading Cards                                 141\n",
       "Create the World Trading Cards: Incredible Inventions          139\n",
       "Create the World Trading Cards: Living Amazingly               139\n",
       "TECHNIC I Activity Centre Cards                                 99\n",
       "VIDIYO Tiles - Database Set                                     80\n",
       "Mosaic Set - Farm Scene                                         77\n",
       "Mosaic Set - Town Scene                                         77\n",
       "Mosaic Set - Domestic Animals                                   76\n",
       "Knights Kingdom II Trading Cards                                63\n",
       "Toys R Us Trading Cards                                         50\n",
       "Time Teacher [Boy]                                              48\n",
       "2022 Build-A-Minifigure Station Exclusive Parts                 47\n",
       "Database Set for Various 3009 prints For Set 226-1              46\n",
       "Dragon Fortress                                                 42\n",
       "Name: name_sets, dtype: int64"
      ]
     },
     "execution_count": 15,
     "metadata": {},
     "output_type": "execute_result"
    }
   ],
   "source": [
    "uniuqe_df[\"name_sets\"].value_counts().head(20)"
   ]
  },
  {
   "cell_type": "raw",
   "id": "26e8e55a",
   "metadata": {},
   "source": [
    "Les pièce les plus utiliser dans le temps"
   ]
  },
  {
   "cell_type": "code",
   "execution_count": 16,
   "id": "a711a893",
   "metadata": {},
   "outputs": [
    {
     "name": "stdout",
     "output_type": "stream",
     "text": [
      "Brick 2 x 2 without Bottom Tubes, Slotted (with 1 slot)\n"
     ]
    }
   ],
   "source": [
    "df_most_used_years =df_parts.groupby([\"name_part\", \"year\"])[\"quantity\"].sum().unstack()\n",
    "print(df_most_used_years.idxmax()[1949.0])"
   ]
  },
  {
   "cell_type": "code",
   "execution_count": null,
   "id": "14dd59e2",
   "metadata": {},
   "outputs": [],
   "source": []
  },
  {
   "cell_type": "code",
   "execution_count": null,
   "id": "2bcf2cb3",
   "metadata": {},
   "outputs": [],
   "source": []
  },
  {
   "cell_type": "markdown",
   "id": "143c15c5",
   "metadata": {},
   "source": [
    "import matplotlib.pyplot as plt\n",
    "from matplotlib.offsetbox import OffsetImage, AnnotationBbox\n",
    "import numpy as np\n",
    "\n",
    "# Créez des données de démonstration\n",
    "x = np.array([1, 2, 3, 4, 5])\n",
    "y = np.array([10, 15, 7, 12, 8])\n",
    "\n",
    "# Créez une figure et un axe\n",
    "fig, ax = plt.subplots()\n",
    "\n",
    "# Tracez le nuage de points\n",
    "ax.scatter(x, y)\n",
    "\n",
    "# Chemin vers l'image que vous souhaitez utiliser comme étiquette\n",
    "image_path = 'chemin/vers/votre/image.png'\n",
    "\n",
    "# Ajoutez des images comme étiquettes de données\n",
    "for i, (xi, yi) in enumerate(zip(x, y)):\n",
    "    ab = AnnotationBbox(OffsetImage(plt.imread(image_path), zoom=0.1), (xi, yi), frameon=False)\n",
    "    ax.add_artist(ab)\n",
    "\n",
    "# Affichez le graphique\n",
    "plt.show()"
   ]
  }
 ],
 "metadata": {
  "kernelspec": {
   "display_name": "Python 3 (ipykernel)",
   "language": "python",
   "name": "python3"
  },
  "language_info": {
   "codemirror_mode": {
    "name": "ipython",
    "version": 3
   },
   "file_extension": ".py",
   "mimetype": "text/x-python",
   "name": "python",
   "nbconvert_exporter": "python",
   "pygments_lexer": "ipython3",
   "version": "3.11.3"
  }
 },
 "nbformat": 4,
 "nbformat_minor": 5
}
