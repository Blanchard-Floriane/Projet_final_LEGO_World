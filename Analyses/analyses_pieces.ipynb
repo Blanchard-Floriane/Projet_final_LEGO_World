{
 "cells": [
  {
   "cell_type": "code",
   "execution_count": 1,
   "id": "696f749a",
   "metadata": {},
   "outputs": [],
   "source": [
    "import pandas as pd\n",
    "import numpy as np\n",
    "import re\n",
    "import datetime\n",
    "from datetime import timedelta\n",
    "import matplotlib.pyplot as plt\n",
    "import seaborn as sns"
   ]
  },
  {
   "cell_type": "code",
   "execution_count": 3,
   "id": "f6e223a7",
   "metadata": {},
   "outputs": [],
   "source": [
    "df_parts = pd.read_csv(\"../Datas/df_parts_an_c_paul.csv\")"
   ]
  },
  {
   "cell_type": "code",
   "execution_count": 4,
   "id": "a6a35a6f",
   "metadata": {},
   "outputs": [
    {
     "data": {
      "text/html": [
       "<div>\n",
       "<style scoped>\n",
       "    .dataframe tbody tr th:only-of-type {\n",
       "        vertical-align: middle;\n",
       "    }\n",
       "\n",
       "    .dataframe tbody tr th {\n",
       "        vertical-align: top;\n",
       "    }\n",
       "\n",
       "    .dataframe thead th {\n",
       "        text-align: right;\n",
       "    }\n",
       "</style>\n",
       "<table border=\"1\" class=\"dataframe\">\n",
       "  <thead>\n",
       "    <tr style=\"text-align: right;\">\n",
       "      <th></th>\n",
       "      <th>inventory_id</th>\n",
       "      <th>part_num</th>\n",
       "      <th>color_id</th>\n",
       "      <th>quantity</th>\n",
       "      <th>is_spare</th>\n",
       "      <th>name_part</th>\n",
       "      <th>part_cat_id</th>\n",
       "      <th>part_material</th>\n",
       "      <th>name_color</th>\n",
       "      <th>rgb</th>\n",
       "      <th>name_cat</th>\n",
       "      <th>version</th>\n",
       "      <th>set_num</th>\n",
       "      <th>name_sets</th>\n",
       "      <th>year</th>\n",
       "      <th>theme_id</th>\n",
       "      <th>name_univ</th>\n",
       "    </tr>\n",
       "  </thead>\n",
       "  <tbody>\n",
       "    <tr>\n",
       "      <th>144141</th>\n",
       "      <td>5750</td>\n",
       "      <td>56093</td>\n",
       "      <td>1080</td>\n",
       "      <td>1</td>\n",
       "      <td>f</td>\n",
       "      <td>Animal, Lemur (Momo)</td>\n",
       "      <td>28</td>\n",
       "      <td>Plastic</td>\n",
       "      <td>Light Tan</td>\n",
       "      <td>F3C988</td>\n",
       "      <td>Plants and Animals</td>\n",
       "      <td>1</td>\n",
       "      <td>3828-1</td>\n",
       "      <td>Air Temple</td>\n",
       "      <td>2006.0</td>\n",
       "      <td>317.0</td>\n",
       "      <td>Avatar: The Last Airbender</td>\n",
       "    </tr>\n",
       "  </tbody>\n",
       "</table>\n",
       "</div>"
      ],
      "text/plain": [
       "        inventory_id part_num  color_id  quantity is_spare  \\\n",
       "144141          5750    56093      1080         1        f   \n",
       "\n",
       "                   name_part  part_cat_id part_material name_color     rgb  \\\n",
       "144141  Animal, Lemur (Momo)           28       Plastic  Light Tan  F3C988   \n",
       "\n",
       "                  name_cat  version set_num   name_sets    year  theme_id  \\\n",
       "144141  Plants and Animals        1  3828-1  Air Temple  2006.0     317.0   \n",
       "\n",
       "                         name_univ  \n",
       "144141  Avatar: The Last Airbender  "
      ]
     },
     "execution_count": 4,
     "metadata": {},
     "output_type": "execute_result"
    }
   ],
   "source": [
    "df_parts.loc[df_parts[\"part_num\"] == \"56093\"].head()"
   ]
  },
  {
   "cell_type": "markdown",
   "id": "a20ef01a",
   "metadata": {},
   "source": [
    "# Nombre de Pièces unique :"
   ]
  },
  {
   "cell_type": "code",
   "execution_count": 5,
   "id": "3f1df502",
   "metadata": {},
   "outputs": [
    {
     "name": "stdout",
     "output_type": "stream",
     "text": [
      "Il y a  50177 pièces différentes\n"
     ]
    }
   ],
   "source": [
    "print(\"Il y a \",df_parts[\"name_part\"].nunique(),\"pièces différentes\")"
   ]
  },
  {
   "cell_type": "code",
   "execution_count": 6,
   "id": "62e5f706",
   "metadata": {},
   "outputs": [
    {
     "name": "stdout",
     "output_type": "stream",
     "text": [
      "Il y a  66 varièté de pièces différentes\n"
     ]
    }
   ],
   "source": [
    "print(\"Il y a \",df_parts[\"name_cat\"].nunique(),\"varièté de pièces différentes\")"
   ]
  },
  {
   "cell_type": "code",
   "execution_count": 7,
   "id": "8b8e5b3d",
   "metadata": {},
   "outputs": [
    {
     "data": {
      "text/plain": [
       "Plates                 14.0\n",
       "Bricks                  8.0\n",
       "Plates Special          8.0\n",
       "Bricks Sloped           6.0\n",
       "Tiles                   5.0\n",
       "                       ... \n",
       "Other                   0.0\n",
       "Magnets and Holders     0.0\n",
       "HO Scale                0.0\n",
       "Znap                    0.0\n",
       "Mechanical              0.0\n",
       "Name: name_cat, Length: 66, dtype: float64"
      ]
     },
     "execution_count": 7,
     "metadata": {},
     "output_type": "execute_result"
    }
   ],
   "source": [
    "df_parts[\"name_cat\"].value_counts(normalize = True).round(2)*100"
   ]
  },
  {
   "cell_type": "markdown",
   "id": "08b21af9",
   "metadata": {},
   "source": [
    "# Matériel utilisée"
   ]
  },
  {
   "cell_type": "code",
   "execution_count": 8,
   "id": "a74eee3b",
   "metadata": {},
   "outputs": [
    {
     "data": {
      "text/html": [
       "<div>\n",
       "<style scoped>\n",
       "    .dataframe tbody tr th:only-of-type {\n",
       "        vertical-align: middle;\n",
       "    }\n",
       "\n",
       "    .dataframe tbody tr th {\n",
       "        vertical-align: top;\n",
       "    }\n",
       "\n",
       "    .dataframe thead th {\n",
       "        text-align: right;\n",
       "    }\n",
       "</style>\n",
       "<table border=\"1\" class=\"dataframe\">\n",
       "  <thead>\n",
       "    <tr style=\"text-align: right;\">\n",
       "      <th></th>\n",
       "      <th>index</th>\n",
       "      <th>part_material</th>\n",
       "      <th>colors</th>\n",
       "    </tr>\n",
       "  </thead>\n",
       "  <tbody>\n",
       "    <tr>\n",
       "      <th>0</th>\n",
       "      <td>Foam</td>\n",
       "      <td>0.01</td>\n",
       "      <td>#D20900</td>\n",
       "    </tr>\n",
       "    <tr>\n",
       "      <th>1</th>\n",
       "      <td>Metal</td>\n",
       "      <td>0.01</td>\n",
       "      <td>#D20900</td>\n",
       "    </tr>\n",
       "    <tr>\n",
       "      <th>2</th>\n",
       "      <td>Flexible Plastic</td>\n",
       "      <td>0.02</td>\n",
       "      <td>#D20900</td>\n",
       "    </tr>\n",
       "    <tr>\n",
       "      <th>3</th>\n",
       "      <td>Cloth</td>\n",
       "      <td>0.17</td>\n",
       "      <td>#D20900</td>\n",
       "    </tr>\n",
       "    <tr>\n",
       "      <th>4</th>\n",
       "      <td>Cardboard/Paper</td>\n",
       "      <td>0.20</td>\n",
       "      <td>#D20900</td>\n",
       "    </tr>\n",
       "    <tr>\n",
       "      <th>5</th>\n",
       "      <td>Rubber</td>\n",
       "      <td>0.72</td>\n",
       "      <td>#D20900</td>\n",
       "    </tr>\n",
       "    <tr>\n",
       "      <th>6</th>\n",
       "      <td>Plastic</td>\n",
       "      <td>98.87</td>\n",
       "      <td>#FCF40C</td>\n",
       "    </tr>\n",
       "  </tbody>\n",
       "</table>\n",
       "</div>"
      ],
      "text/plain": [
       "              index  part_material   colors\n",
       "0              Foam           0.01  #D20900\n",
       "1             Metal           0.01  #D20900\n",
       "2  Flexible Plastic           0.02  #D20900\n",
       "3             Cloth           0.17  #D20900\n",
       "4   Cardboard/Paper           0.20  #D20900\n",
       "5            Rubber           0.72  #D20900\n",
       "6           Plastic          98.87  #FCF40C"
      ]
     },
     "execution_count": 8,
     "metadata": {},
     "output_type": "execute_result"
    }
   ],
   "source": [
    "df_mat = df_parts[\"part_material\"].value_counts(normalize = True, ascending=True).round(4)*100\n",
    "df_mat = pd.DataFrame(df_mat).reset_index()\n",
    "df_mat[\"colors\"] = ['#D20900', '#D20900', '#D20900', '#D20900', '#D20900', '#D20900', '#FCF40C']\n",
    "df_mat"
   ]
  },
  {
   "cell_type": "code",
   "execution_count": 9,
   "id": "615d714f",
   "metadata": {},
   "outputs": [
    {
     "data": {
      "image/png": "[encoded data removed]",
      "text/plain": [
       "<Figure size 640x480 with 1 Axes>"
      ]
     },
     "metadata": {},
     "output_type": "display_data"
    }
   ],
   "source": [
    "class BubbleChart:\n",
    "    def __init__(self, area, bubble_spacing=0):\n",
    "        \"\"\"\n",
    "        Setup for bubble collapse.\n",
    "\n",
    "        Parameters\n",
    "        ----------\n",
    "        area : array-like\n",
    "            Area of the bubbles.\n",
    "        bubble_spacing : float, default: 0\n",
    "            Minimal spacing between bubbles after collapsing.\n",
    "\n",
    "        Notes\n",
    "        -----\n",
    "        If \"area\" is sorted, the results might look weird.\n",
    "        \"\"\"\n",
    "        area = np.asarray(area)\n",
    "        r = np.sqrt(area / np.pi)\n",
    "\n",
    "        self.bubble_spacing = bubble_spacing\n",
    "        self.bubbles = np.ones((len(area), 4))\n",
    "        self.bubbles[:, 2] = r\n",
    "        self.bubbles[:, 3] = area\n",
    "        self.maxstep = 2 * self.bubbles[:, 2].max() + self.bubble_spacing\n",
    "        self.step_dist = self.maxstep / 2\n",
    "\n",
    "        # calculate initial grid layout for bubbles\n",
    "        length = np.ceil(np.sqrt(len(self.bubbles)))\n",
    "        grid = np.arange(length) * self.maxstep\n",
    "        gx, gy = np.meshgrid(grid, grid)\n",
    "        self.bubbles[:, 0] = gx.flatten()[:len(self.bubbles)]\n",
    "        self.bubbles[:, 1] = gy.flatten()[:len(self.bubbles)]\n",
    "\n",
    "        self.com = self.center_of_mass()\n",
    "\n",
    "    def center_of_mass(self):\n",
    "        return np.average(\n",
    "            self.bubbles[:, :2], axis=0, weights=self.bubbles[:, 3]\n",
    "        )\n",
    "\n",
    "    def center_distance(self, bubble, bubbles):\n",
    "        return np.hypot(bubble[0] - bubbles[:, 0],\n",
    "                        bubble[1] - bubbles[:, 1])\n",
    "\n",
    "    def outline_distance(self, bubble, bubbles):\n",
    "        center_distance = self.center_distance(bubble, bubbles)\n",
    "        return center_distance - bubble[2] - \\\n",
    "            bubbles[:, 2] - self.bubble_spacing\n",
    "\n",
    "    def check_collisions(self, bubble, bubbles):\n",
    "        distance = self.outline_distance(bubble, bubbles)\n",
    "        return len(distance[distance < 0])\n",
    "\n",
    "    def collides_with(self, bubble, bubbles):\n",
    "        distance = self.outline_distance(bubble, bubbles)\n",
    "        idx_min = np.argmin(distance)\n",
    "        return idx_min if type(idx_min) == np.ndarray else [idx_min]\n",
    "\n",
    "    def collapse(self, n_iterations=50):\n",
    "        \"\"\"\n",
    "        Move bubbles to the center of mass.\n",
    "\n",
    "        Parameters\n",
    "        ----------\n",
    "        n_iterations : int, default: 50\n",
    "            Number of moves to perform.\n",
    "        \"\"\"\n",
    "        for _i in range(n_iterations):\n",
    "            moves = 0\n",
    "            for i in range(len(self.bubbles)):\n",
    "                rest_bub = np.delete(self.bubbles, i, 0)\n",
    "                # try to move directly towards the center of mass\n",
    "                # direction vector from bubble to the center of mass\n",
    "                dir_vec = self.com - self.bubbles[i, :2]\n",
    "\n",
    "                # shorten direction vector to have length of 1\n",
    "                dir_vec = dir_vec / np.sqrt(dir_vec.dot(dir_vec))\n",
    "\n",
    "                # calculate new bubble position\n",
    "                new_point = self.bubbles[i, :2] + dir_vec * self.step_dist\n",
    "                new_bubble = np.append(new_point, self.bubbles[i, 2:4])\n",
    "\n",
    "                # check whether new bubble collides with other bubbles\n",
    "                if not self.check_collisions(new_bubble, rest_bub):\n",
    "                    self.bubbles[i, :] = new_bubble\n",
    "                    self.com = self.center_of_mass()\n",
    "                    moves += 1\n",
    "                else:\n",
    "                    # try to move around a bubble that you collide with\n",
    "                    # find colliding bubble\n",
    "                    for colliding in self.collides_with(new_bubble, rest_bub):\n",
    "                        # calculate direction vector\n",
    "                        dir_vec = rest_bub[colliding, :2] - self.bubbles[i, :2]\n",
    "                        dir_vec = dir_vec / np.sqrt(dir_vec.dot(dir_vec))\n",
    "                        # calculate orthogonal vector\n",
    "                        orth = np.array([dir_vec[1], -dir_vec[0]])\n",
    "                        # test which direction to go\n",
    "                        new_point1 = (self.bubbles[i, :2] + orth *\n",
    "                                      self.step_dist)\n",
    "                        new_point2 = (self.bubbles[i, :2] - orth *\n",
    "                                      self.step_dist)\n",
    "                        dist1 = self.center_distance(\n",
    "                            self.com, np.array([new_point1]))\n",
    "                        dist2 = self.center_distance(\n",
    "                            self.com, np.array([new_point2]))\n",
    "                        new_point = new_point1 if dist1 < dist2 else new_point2\n",
    "                        new_bubble = np.append(new_point, self.bubbles[i, 2:4])\n",
    "                        if not self.check_collisions(new_bubble, rest_bub):\n",
    "                            self.bubbles[i, :] = new_bubble\n",
    "                            self.com = self.center_of_mass()\n",
    "\n",
    "            if moves / len(self.bubbles) < 0.1:\n",
    "                self.step_dist = self.step_dist / 2\n",
    "\n",
    "    def plot(self, ax, labels, colors):\n",
    "        \"\"\"\n",
    "        Draw the bubble plot.\n",
    "\n",
    "        Parameters\n",
    "        ----------\n",
    "        ax : matplotlib.axes.Axes\n",
    "        labels : list\n",
    "            Labels of the bubbles.\n",
    "        colors : list\n",
    "            Colors of the bubbles.\n",
    "        \"\"\"\n",
    "        for i in range(len(self.bubbles)):\n",
    "            circ = plt.Circle(\n",
    "                self.bubbles[i, :2], self.bubbles[i, 2], color=colors[i])\n",
    "            ax.add_patch(circ)\n",
    "            ax.text(*self.bubbles[i, :2], labels[i],\n",
    "                    horizontalalignment='left', verticalalignment='top')\n",
    "\n",
    "\n",
    "bubble_chart = BubbleChart(area=df_mat[\"part_material\"],\n",
    "                           bubble_spacing=2.0)\n",
    "\n",
    "bubble_chart.collapse()\n",
    "\n",
    "fig, ax = plt.subplots(subplot_kw=dict(aspect=\"equal\"))\n",
    "bubble_chart.plot(\n",
    "    ax, df_mat[\"index\"], df_mat[\"colors\"])\n",
    "ax.axis(\"off\")\n",
    "ax.relim()\n",
    "ax.autoscale_view()\n",
    "ax.set_title('Matériaux utilisés')\n",
    "fig.savefig('Matériaux utilisés.png')\n",
    "\n",
    "plt.show()"
   ]
  },
  {
   "cell_type": "code",
   "execution_count": 10,
   "id": "005c4679",
   "metadata": {},
   "outputs": [
    {
     "data": {
      "text/html": [
       "<div>\n",
       "<style scoped>\n",
       "    .dataframe tbody tr th:only-of-type {\n",
       "        vertical-align: middle;\n",
       "    }\n",
       "\n",
       "    .dataframe tbody tr th {\n",
       "        vertical-align: top;\n",
       "    }\n",
       "\n",
       "    .dataframe thead th {\n",
       "        text-align: right;\n",
       "    }\n",
       "</style>\n",
       "<table border=\"1\" class=\"dataframe\">\n",
       "  <thead>\n",
       "    <tr style=\"text-align: right;\">\n",
       "      <th>year</th>\n",
       "      <th>1949.0</th>\n",
       "      <th>1950.0</th>\n",
       "      <th>1953.0</th>\n",
       "      <th>1954.0</th>\n",
       "      <th>1955.0</th>\n",
       "      <th>1956.0</th>\n",
       "      <th>1957.0</th>\n",
       "      <th>1958.0</th>\n",
       "      <th>1959.0</th>\n",
       "      <th>1960.0</th>\n",
       "      <th>...</th>\n",
       "      <th>2014.0</th>\n",
       "      <th>2015.0</th>\n",
       "      <th>2016.0</th>\n",
       "      <th>2017.0</th>\n",
       "      <th>2018.0</th>\n",
       "      <th>2019.0</th>\n",
       "      <th>2020.0</th>\n",
       "      <th>2021.0</th>\n",
       "      <th>2022.0</th>\n",
       "      <th>2023.0</th>\n",
       "    </tr>\n",
       "    <tr>\n",
       "      <th>part_material</th>\n",
       "      <th></th>\n",
       "      <th></th>\n",
       "      <th></th>\n",
       "      <th></th>\n",
       "      <th></th>\n",
       "      <th></th>\n",
       "      <th></th>\n",
       "      <th></th>\n",
       "      <th></th>\n",
       "      <th></th>\n",
       "      <th></th>\n",
       "      <th></th>\n",
       "      <th></th>\n",
       "      <th></th>\n",
       "      <th></th>\n",
       "      <th></th>\n",
       "      <th></th>\n",
       "      <th></th>\n",
       "      <th></th>\n",
       "      <th></th>\n",
       "      <th></th>\n",
       "    </tr>\n",
       "  </thead>\n",
       "  <tbody>\n",
       "    <tr>\n",
       "      <th>Cardboard/Paper</th>\n",
       "      <td>0.0</td>\n",
       "      <td>0.0</td>\n",
       "      <td>0.0</td>\n",
       "      <td>0.0</td>\n",
       "      <td>0.0</td>\n",
       "      <td>0.0</td>\n",
       "      <td>0.0</td>\n",
       "      <td>0.0</td>\n",
       "      <td>0.0</td>\n",
       "      <td>0.0</td>\n",
       "      <td>...</td>\n",
       "      <td>87.0</td>\n",
       "      <td>26.0</td>\n",
       "      <td>263.0</td>\n",
       "      <td>474.0</td>\n",
       "      <td>121.0</td>\n",
       "      <td>13.0</td>\n",
       "      <td>165.0</td>\n",
       "      <td>12.0</td>\n",
       "      <td>7.0</td>\n",
       "      <td>1.0</td>\n",
       "    </tr>\n",
       "    <tr>\n",
       "      <th>Cloth</th>\n",
       "      <td>0.0</td>\n",
       "      <td>0.0</td>\n",
       "      <td>0.0</td>\n",
       "      <td>0.0</td>\n",
       "      <td>0.0</td>\n",
       "      <td>0.0</td>\n",
       "      <td>0.0</td>\n",
       "      <td>0.0</td>\n",
       "      <td>0.0</td>\n",
       "      <td>0.0</td>\n",
       "      <td>...</td>\n",
       "      <td>37.0</td>\n",
       "      <td>43.0</td>\n",
       "      <td>28.0</td>\n",
       "      <td>36.0</td>\n",
       "      <td>31.0</td>\n",
       "      <td>26.0</td>\n",
       "      <td>44.0</td>\n",
       "      <td>51.0</td>\n",
       "      <td>15.0</td>\n",
       "      <td>28.0</td>\n",
       "    </tr>\n",
       "    <tr>\n",
       "      <th>Flexible Plastic</th>\n",
       "      <td>0.0</td>\n",
       "      <td>0.0</td>\n",
       "      <td>0.0</td>\n",
       "      <td>0.0</td>\n",
       "      <td>0.0</td>\n",
       "      <td>0.0</td>\n",
       "      <td>0.0</td>\n",
       "      <td>0.0</td>\n",
       "      <td>0.0</td>\n",
       "      <td>0.0</td>\n",
       "      <td>...</td>\n",
       "      <td>0.0</td>\n",
       "      <td>0.0</td>\n",
       "      <td>10.0</td>\n",
       "      <td>15.0</td>\n",
       "      <td>22.0</td>\n",
       "      <td>16.0</td>\n",
       "      <td>24.0</td>\n",
       "      <td>14.0</td>\n",
       "      <td>26.0</td>\n",
       "      <td>23.0</td>\n",
       "    </tr>\n",
       "    <tr>\n",
       "      <th>Foam</th>\n",
       "      <td>0.0</td>\n",
       "      <td>0.0</td>\n",
       "      <td>0.0</td>\n",
       "      <td>0.0</td>\n",
       "      <td>0.0</td>\n",
       "      <td>0.0</td>\n",
       "      <td>0.0</td>\n",
       "      <td>0.0</td>\n",
       "      <td>0.0</td>\n",
       "      <td>0.0</td>\n",
       "      <td>...</td>\n",
       "      <td>0.0</td>\n",
       "      <td>1.0</td>\n",
       "      <td>0.0</td>\n",
       "      <td>2.0</td>\n",
       "      <td>0.0</td>\n",
       "      <td>0.0</td>\n",
       "      <td>0.0</td>\n",
       "      <td>0.0</td>\n",
       "      <td>0.0</td>\n",
       "      <td>0.0</td>\n",
       "    </tr>\n",
       "    <tr>\n",
       "      <th>Metal</th>\n",
       "      <td>0.0</td>\n",
       "      <td>0.0</td>\n",
       "      <td>0.0</td>\n",
       "      <td>0.0</td>\n",
       "      <td>0.0</td>\n",
       "      <td>0.0</td>\n",
       "      <td>0.0</td>\n",
       "      <td>0.0</td>\n",
       "      <td>0.0</td>\n",
       "      <td>0.0</td>\n",
       "      <td>...</td>\n",
       "      <td>5.0</td>\n",
       "      <td>2.0</td>\n",
       "      <td>2.0</td>\n",
       "      <td>0.0</td>\n",
       "      <td>5.0</td>\n",
       "      <td>0.0</td>\n",
       "      <td>0.0</td>\n",
       "      <td>0.0</td>\n",
       "      <td>0.0</td>\n",
       "      <td>1.0</td>\n",
       "    </tr>\n",
       "    <tr>\n",
       "      <th>Plastic</th>\n",
       "      <td>171.0</td>\n",
       "      <td>22.0</td>\n",
       "      <td>26.0</td>\n",
       "      <td>109.0</td>\n",
       "      <td>243.0</td>\n",
       "      <td>152.0</td>\n",
       "      <td>285.0</td>\n",
       "      <td>653.0</td>\n",
       "      <td>18.0</td>\n",
       "      <td>70.0</td>\n",
       "      <td>...</td>\n",
       "      <td>42993.0</td>\n",
       "      <td>50016.0</td>\n",
       "      <td>51166.0</td>\n",
       "      <td>56832.0</td>\n",
       "      <td>58577.0</td>\n",
       "      <td>64055.0</td>\n",
       "      <td>72254.0</td>\n",
       "      <td>79004.0</td>\n",
       "      <td>75822.0</td>\n",
       "      <td>69449.0</td>\n",
       "    </tr>\n",
       "    <tr>\n",
       "      <th>Rubber</th>\n",
       "      <td>0.0</td>\n",
       "      <td>0.0</td>\n",
       "      <td>0.0</td>\n",
       "      <td>0.0</td>\n",
       "      <td>0.0</td>\n",
       "      <td>0.0</td>\n",
       "      <td>0.0</td>\n",
       "      <td>0.0</td>\n",
       "      <td>1.0</td>\n",
       "      <td>0.0</td>\n",
       "      <td>...</td>\n",
       "      <td>336.0</td>\n",
       "      <td>323.0</td>\n",
       "      <td>276.0</td>\n",
       "      <td>316.0</td>\n",
       "      <td>284.0</td>\n",
       "      <td>312.0</td>\n",
       "      <td>335.0</td>\n",
       "      <td>352.0</td>\n",
       "      <td>319.0</td>\n",
       "      <td>239.0</td>\n",
       "    </tr>\n",
       "  </tbody>\n",
       "</table>\n",
       "<p>7 rows × 73 columns</p>\n",
       "</div>"
      ],
      "text/plain": [
       "year              1949.0  1950.0  1953.0  1954.0  1955.0  1956.0  1957.0  \\\n",
       "part_material                                                              \n",
       "Cardboard/Paper      0.0     0.0     0.0     0.0     0.0     0.0     0.0   \n",
       "Cloth                0.0     0.0     0.0     0.0     0.0     0.0     0.0   \n",
       "Flexible Plastic     0.0     0.0     0.0     0.0     0.0     0.0     0.0   \n",
       "Foam                 0.0     0.0     0.0     0.0     0.0     0.0     0.0   \n",
       "Metal                0.0     0.0     0.0     0.0     0.0     0.0     0.0   \n",
       "Plastic            171.0    22.0    26.0   109.0   243.0   152.0   285.0   \n",
       "Rubber               0.0     0.0     0.0     0.0     0.0     0.0     0.0   \n",
       "\n",
       "year              1958.0  1959.0  1960.0  ...   2014.0   2015.0   2016.0  \\\n",
       "part_material                             ...                              \n",
       "Cardboard/Paper      0.0     0.0     0.0  ...     87.0     26.0    263.0   \n",
       "Cloth                0.0     0.0     0.0  ...     37.0     43.0     28.0   \n",
       "Flexible Plastic     0.0     0.0     0.0  ...      0.0      0.0     10.0   \n",
       "Foam                 0.0     0.0     0.0  ...      0.0      1.0      0.0   \n",
       "Metal                0.0     0.0     0.0  ...      5.0      2.0      2.0   \n",
       "Plastic            653.0    18.0    70.0  ...  42993.0  50016.0  51166.0   \n",
       "Rubber               0.0     1.0     0.0  ...    336.0    323.0    276.0   \n",
       "\n",
       "year               2017.0   2018.0   2019.0   2020.0   2021.0   2022.0  \\\n",
       "part_material                                                            \n",
       "Cardboard/Paper     474.0    121.0     13.0    165.0     12.0      7.0   \n",
       "Cloth                36.0     31.0     26.0     44.0     51.0     15.0   \n",
       "Flexible Plastic     15.0     22.0     16.0     24.0     14.0     26.0   \n",
       "Foam                  2.0      0.0      0.0      0.0      0.0      0.0   \n",
       "Metal                 0.0      5.0      0.0      0.0      0.0      0.0   \n",
       "Plastic           56832.0  58577.0  64055.0  72254.0  79004.0  75822.0   \n",
       "Rubber              316.0    284.0    312.0    335.0    352.0    319.0   \n",
       "\n",
       "year               2023.0  \n",
       "part_material              \n",
       "Cardboard/Paper       1.0  \n",
       "Cloth                28.0  \n",
       "Flexible Plastic     23.0  \n",
       "Foam                  0.0  \n",
       "Metal                 1.0  \n",
       "Plastic           69449.0  \n",
       "Rubber              239.0  \n",
       "\n",
       "[7 rows x 73 columns]"
      ]
     },
     "metadata": {},
     "output_type": "display_data"
    }
   ],
   "source": [
    "display(df_parts.groupby(\"part_material\")[\"year\"].value_counts(ascending=True).unstack().fillna(0))"
   ]
  },
  {
   "cell_type": "markdown",
   "id": "86fb4ece",
   "metadata": {},
   "source": [
    "# Nombre de pièce disponible par an / interoger prendre en compte les valeurs extrèmes"
   ]
  },
  {
   "cell_type": "code",
   "execution_count": 11,
   "id": "1d8f881e",
   "metadata": {},
   "outputs": [
    {
     "data": {
      "text/plain": [
       "year\n",
       "1949.0      171\n",
       "1950.0       22\n",
       "1953.0       26\n",
       "1954.0      109\n",
       "1955.0      243\n",
       "          ...  \n",
       "2019.0    64422\n",
       "2020.0    72822\n",
       "2021.0    79433\n",
       "2022.0    76189\n",
       "2023.0    69741\n",
       "Name: part_num, Length: 73, dtype: int64"
      ]
     },
     "execution_count": 11,
     "metadata": {},
     "output_type": "execute_result"
    }
   ],
   "source": [
    "df_parts_by_years = df_parts.groupby(\"year\")[\"part_num\"].count()\n",
    "df_parts_by_years"
   ]
  },
  {
   "cell_type": "code",
   "execution_count": 12,
   "id": "6e4e345b",
   "metadata": {},
   "outputs": [
    {
     "data": {
      "image/png": "[encoded data removed]",
      "text/plain": [
       "<Figure size 800x600 with 1 Axes>"
      ]
     },
     "metadata": {},
     "output_type": "display_data"
    }
   ],
   "source": [
    "fig = plt.figure(figsize=(8, 6))\n",
    "ax = fig.add_subplot(111)\n",
    "plt.plot(df_parts_by_years, label='Nb of parts')\n",
    "\n",
    "plt.xticks(df_parts_by_years.index[::7].astype(int), df_parts_by_years.index[::7].astype(int))\n",
    "\n",
    "ax.set_ylabel('Nombre de pièces utilisées')\n",
    "ax.set_title('Evolution du nombre de pièce utilisé dans les set par an')\n",
    "fig.savefig('Nombre de pièces utilisées.png')\n",
    "plt.show()"
   ]
  },
  {
   "cell_type": "markdown",
   "id": "e497cda0",
   "metadata": {},
   "source": [
    "# Proportion des pièce de rechange dans les boites attention, par pièce et par boite"
   ]
  },
  {
   "cell_type": "code",
   "execution_count": 13,
   "id": "578c3225",
   "metadata": {},
   "outputs": [],
   "source": [
    "df_spare = df_parts.groupby(\"year\")[\"is_spare\"].value_counts().unstack().fillna(0)\n",
    "df_spare[\"% de pièce de rechange\"] = ((df_spare[\"t\"]/(df_spare[\"f\"]+df_spare[\"t\"]))*100).round(2)\n",
    "df_spare[\"% de pièce de principale\"] = ((df_spare[\"f\"]/(df_spare[\"f\"]+df_spare[\"t\"]))*100).round(2)\n",
    "df_spare.index = df_spare.index.astype(int)"
   ]
  },
  {
   "cell_type": "code",
   "execution_count": 14,
   "id": "c5378c00",
   "metadata": {},
   "outputs": [
    {
     "data": {
      "text/html": [
       "<div>\n",
       "<style scoped>\n",
       "    .dataframe tbody tr th:only-of-type {\n",
       "        vertical-align: middle;\n",
       "    }\n",
       "\n",
       "    .dataframe tbody tr th {\n",
       "        vertical-align: top;\n",
       "    }\n",
       "\n",
       "    .dataframe thead th {\n",
       "        text-align: right;\n",
       "    }\n",
       "</style>\n",
       "<table border=\"1\" class=\"dataframe\">\n",
       "  <thead>\n",
       "    <tr style=\"text-align: right;\">\n",
       "      <th>is_spare</th>\n",
       "      <th>f</th>\n",
       "      <th>t</th>\n",
       "      <th>% de pièce de rechange</th>\n",
       "      <th>% de pièce de principale</th>\n",
       "    </tr>\n",
       "  </thead>\n",
       "  <tbody>\n",
       "    <tr>\n",
       "      <th>count</th>\n",
       "      <td>73.000000</td>\n",
       "      <td>73.000000</td>\n",
       "      <td>73.000000</td>\n",
       "      <td>73.000000</td>\n",
       "    </tr>\n",
       "    <tr>\n",
       "      <th>mean</th>\n",
       "      <td>14048.301370</td>\n",
       "      <td>1026.767123</td>\n",
       "      <td>2.740959</td>\n",
       "      <td>97.259041</td>\n",
       "    </tr>\n",
       "    <tr>\n",
       "      <th>std</th>\n",
       "      <td>19461.197406</td>\n",
       "      <td>1931.001809</td>\n",
       "      <td>3.092795</td>\n",
       "      <td>3.092795</td>\n",
       "    </tr>\n",
       "    <tr>\n",
       "      <th>min</th>\n",
       "      <td>19.000000</td>\n",
       "      <td>0.000000</td>\n",
       "      <td>0.000000</td>\n",
       "      <td>90.110000</td>\n",
       "    </tr>\n",
       "    <tr>\n",
       "      <th>25%</th>\n",
       "      <td>1075.000000</td>\n",
       "      <td>1.000000</td>\n",
       "      <td>0.050000</td>\n",
       "      <td>95.870000</td>\n",
       "    </tr>\n",
       "    <tr>\n",
       "      <th>50%</th>\n",
       "      <td>5015.000000</td>\n",
       "      <td>62.000000</td>\n",
       "      <td>1.570000</td>\n",
       "      <td>98.430000</td>\n",
       "    </tr>\n",
       "    <tr>\n",
       "      <th>75%</th>\n",
       "      <td>19669.000000</td>\n",
       "      <td>837.000000</td>\n",
       "      <td>4.130000</td>\n",
       "      <td>99.950000</td>\n",
       "    </tr>\n",
       "    <tr>\n",
       "      <th>max</th>\n",
       "      <td>71581.000000</td>\n",
       "      <td>7852.000000</td>\n",
       "      <td>9.890000</td>\n",
       "      <td>100.000000</td>\n",
       "    </tr>\n",
       "  </tbody>\n",
       "</table>\n",
       "</div>"
      ],
      "text/plain": [
       "is_spare             f            t  % de pièce de rechange  \\\n",
       "count        73.000000    73.000000               73.000000   \n",
       "mean      14048.301370  1026.767123                2.740959   \n",
       "std       19461.197406  1931.001809                3.092795   \n",
       "min          19.000000     0.000000                0.000000   \n",
       "25%        1075.000000     1.000000                0.050000   \n",
       "50%        5015.000000    62.000000                1.570000   \n",
       "75%       19669.000000   837.000000                4.130000   \n",
       "max       71581.000000  7852.000000                9.890000   \n",
       "\n",
       "is_spare  % de pièce de principale  \n",
       "count                    73.000000  \n",
       "mean                     97.259041  \n",
       "std                       3.092795  \n",
       "min                      90.110000  \n",
       "25%                      95.870000  \n",
       "50%                      98.430000  \n",
       "75%                      99.950000  \n",
       "max                     100.000000  "
      ]
     },
     "execution_count": 14,
     "metadata": {},
     "output_type": "execute_result"
    }
   ],
   "source": [
    "df_spare.describe()"
   ]
  },
  {
   "cell_type": "code",
   "execution_count": 15,
   "id": "1126c84a",
   "metadata": {},
   "outputs": [
    {
     "data": {
      "image/png": "[encoded data removed]",
      "text/plain": [
       "<Figure size 800x600 with 1 Axes>"
      ]
     },
     "metadata": {},
     "output_type": "display_data"
    }
   ],
   "source": [
    "fig = plt.figure(figsize=(8, 6))\n",
    "ax = fig.add_subplot(111)\n",
    "df_spare.iloc[:,[2,3]].plot(kind='bar', stacked = True, ax = ax)\n",
    "ax.set_xticks([])\n",
    "ax.set_ylabel('Pourcentage')\n",
    "ax.set_title('Evolution du pourcentage des pièces de rechange en fonction du temps')\n",
    "fig.savefig('Pourcentage.png')\n",
    "plt.show()"
   ]
  },
  {
   "cell_type": "markdown",
   "id": "ae5c8c06",
   "metadata": {},
   "source": [
    "# Les pièce les plus utiliser de tous les temps"
   ]
  },
  {
   "cell_type": "code",
   "execution_count": 16,
   "id": "9db87387",
   "metadata": {},
   "outputs": [
    {
     "data": {
      "text/html": [
       "<div>\n",
       "<style scoped>\n",
       "    .dataframe tbody tr th:only-of-type {\n",
       "        vertical-align: middle;\n",
       "    }\n",
       "\n",
       "    .dataframe tbody tr th {\n",
       "        vertical-align: top;\n",
       "    }\n",
       "\n",
       "    .dataframe thead th {\n",
       "        text-align: right;\n",
       "    }\n",
       "</style>\n",
       "<table border=\"1\" class=\"dataframe\">\n",
       "  <thead>\n",
       "    <tr style=\"text-align: right;\">\n",
       "      <th></th>\n",
       "      <th>quantity</th>\n",
       "    </tr>\n",
       "    <tr>\n",
       "      <th>name_part</th>\n",
       "      <th></th>\n",
       "    </tr>\n",
       "  </thead>\n",
       "  <tbody>\n",
       "    <tr>\n",
       "      <th>Plate 1 x 2</th>\n",
       "      <td>125719</td>\n",
       "    </tr>\n",
       "    <tr>\n",
       "      <th>Plate Round 1 x 1 with Solid Stud</th>\n",
       "      <td>117462</td>\n",
       "    </tr>\n",
       "    <tr>\n",
       "      <th>Brick 1 x 2</th>\n",
       "      <td>99181</td>\n",
       "    </tr>\n",
       "    <tr>\n",
       "      <th>Plate 1 x 1</th>\n",
       "      <td>90551</td>\n",
       "    </tr>\n",
       "    <tr>\n",
       "      <th>Brick 1 x 1</th>\n",
       "      <td>74886</td>\n",
       "    </tr>\n",
       "    <tr>\n",
       "      <th>...</th>\n",
       "      <td>...</td>\n",
       "    </tr>\n",
       "    <tr>\n",
       "      <th>Minifig Head Leonard Hofstadter, Dual Sided, Glasses, Brown Eyebrows, Open Mouth / Confused [Hollow Stud]</th>\n",
       "      <td>1</td>\n",
       "    </tr>\n",
       "    <tr>\n",
       "      <th>Minifig Head Leia, Female, Dark Tan Eyebrows, Peach Lips, Smile Print</th>\n",
       "      <td>1</td>\n",
       "    </tr>\n",
       "    <tr>\n",
       "      <th>Minifig Head Leia, Dual Sided, Female Brown Eyebrows, Red Lips, Smile / Breathing Mask Print [Hollow Stud]</th>\n",
       "      <td>1</td>\n",
       "    </tr>\n",
       "    <tr>\n",
       "      <th>Minifig Head Leia, Dual Sided, Dark Tan Eyebrows, Nougat Lips and Cheek Lines, with Raised Cheek / Eyebrow Raised [Hollow Stud]</th>\n",
       "      <td>1</td>\n",
       "    </tr>\n",
       "    <tr>\n",
       "      <th>inidoll Torso Girl with Bright Light Blue Shirt, White Horse Shoes, Dark Blue Trim print, Meium Brown Arms and Hands</th>\n",
       "      <td>1</td>\n",
       "    </tr>\n",
       "  </tbody>\n",
       "</table>\n",
       "<p>50177 rows × 1 columns</p>\n",
       "</div>"
      ],
      "text/plain": [
       "                                                    quantity\n",
       "name_part                                                   \n",
       "Plate 1 x 2                                           125719\n",
       "Plate Round 1 x 1 with Solid Stud                     117462\n",
       "Brick 1 x 2                                            99181\n",
       "Plate 1 x 1                                            90551\n",
       "Brick 1 x 1                                            74886\n",
       "...                                                      ...\n",
       "Minifig Head Leonard Hofstadter, Dual Sided, Gl...         1\n",
       "Minifig Head Leia, Female, Dark Tan Eyebrows, P...         1\n",
       "Minifig Head Leia, Dual Sided, Female Brown Eye...         1\n",
       "Minifig Head Leia, Dual Sided, Dark Tan Eyebrow...         1\n",
       "inidoll Torso Girl with Bright Light Blue Shirt...         1\n",
       "\n",
       "[50177 rows x 1 columns]"
      ]
     },
     "execution_count": 16,
     "metadata": {},
     "output_type": "execute_result"
    }
   ],
   "source": [
    "df_most_used_alltime = df_parts.groupby(\"name_part\")[\"quantity\"].sum()\n",
    "df_most_used_alltime.sort_values(ascending=False, inplace=True)\n",
    "df_most_used_alltime = df_most_used_alltime.to_frame()\n",
    "df_most_used_alltime"
   ]
  },
  {
   "cell_type": "code",
   "execution_count": 17,
   "id": "30f5d926",
   "metadata": {},
   "outputs": [
    {
     "data": {
      "text/plain": [
       "quantity    3.205613\n",
       "dtype: float64"
      ]
     },
     "metadata": {},
     "output_type": "display_data"
    }
   ],
   "source": [
    "display(df_most_used_alltime.max()/df_most_used_alltime[\"quantity\"].sum()*100)"
   ]
  },
  {
   "cell_type": "code",
   "execution_count": 18,
   "id": "a4580838",
   "metadata": {},
   "outputs": [
    {
     "data": {
      "text/plain": [
       "3921840"
      ]
     },
     "execution_count": 18,
     "metadata": {},
     "output_type": "execute_result"
    }
   ],
   "source": [
    "df_most_used_alltime[\"quantity\"].sum()"
   ]
  },
  {
   "cell_type": "code",
   "execution_count": 19,
   "id": "efd4a6d4",
   "metadata": {},
   "outputs": [],
   "source": [
    "df_most_used_alltime_df = df_most_used_alltime.reset_index()\n",
    "df_most_used_alltime_df.to_csv('../Datas/df_most_used_alltime_paul.csv')"
   ]
  },
  {
   "cell_type": "markdown",
   "id": "6eacead6",
   "metadata": {},
   "source": [
    "# Analyses utilisation uniuqe de pièces"
   ]
  },
  {
   "cell_type": "code",
   "execution_count": 20,
   "id": "1eea001e",
   "metadata": {},
   "outputs": [
    {
     "name": "stdout",
     "output_type": "stream",
     "text": [
      "quantity    28038\n",
      "dtype: int64\n"
     ]
    }
   ],
   "source": [
    "unique_parts = df_most_used_alltime[df_most_used_alltime == 1]\n",
    "print (unique_parts.count())"
   ]
  },
  {
   "cell_type": "code",
   "execution_count": 21,
   "id": "5fac94be",
   "metadata": {},
   "outputs": [
    {
     "name": "stdout",
     "output_type": "stream",
     "text": [
      "quantity    0.558782\n",
      "dtype: float64\n"
     ]
    }
   ],
   "source": [
    "print (unique_parts.count() / df_most_used_alltime.count())"
   ]
  },
  {
   "cell_type": "markdown",
   "id": "aa6385c0",
   "metadata": {},
   "source": [
    "# Univers avec les plus de pièce unique"
   ]
  },
  {
   "cell_type": "code",
   "execution_count": 22,
   "id": "a6a13c37",
   "metadata": {},
   "outputs": [],
   "source": [
    "unique_parts_i = unique_parts.index\n",
    "unique_parts_i = np.array(unique_parts_i)"
   ]
  },
  {
   "cell_type": "code",
   "execution_count": 23,
   "id": "01770bc8",
   "metadata": {},
   "outputs": [],
   "source": [
    "unique_df = df_parts.loc[df_parts[\"name_part\"].isin(unique_parts_i)]\n",
    "unique_series = unique_df[\"name_univ\"].value_counts().head(20)"
   ]
  },
  {
   "cell_type": "code",
   "execution_count": 25,
   "id": "a2e48997",
   "metadata": {},
   "outputs": [
    {
     "data": {
      "image/png": "[encoded data removed]",
      "text/plain": [
       "<Figure size 640x480 with 1 Axes>"
      ]
     },
     "metadata": {},
     "output_type": "display_data"
    }
   ],
   "source": [
    "fig, ax = plt.subplots()\n",
    "ax.barh(unique_series.index, unique_series.values, align='center')\n",
    "ax.invert_yaxis()  # labels read top-to-bottom\n",
    "ax.set_xlabel('Nombre de pièces unique')\n",
    "ax.set_title('Univers avec les plus de pièce unique')\n",
    "fig.savefig('Univers avec les plus de pièce unique.png')\n",
    "plt.show()"
   ]
  },
  {
   "cell_type": "markdown",
   "id": "f5ac11ad",
   "metadata": {},
   "source": [
    "# le set qui contient le plus de pièce unique"
   ]
  },
  {
   "cell_type": "code",
   "execution_count": 24,
   "id": "168aef90",
   "metadata": {},
   "outputs": [
    {
     "data": {
      "text/plain": [
       "Basic Building Set                   3160\n",
       "Police Station                       3023\n",
       "Fire Station                         2829\n",
       "NINJAGO City Gardens                 2618\n",
       "Universal Building Set               2485\n",
       "Millennium Falcon                    2219\n",
       "Hogwarts Castle                      2184\n",
       "Diagon Alley                         1948\n",
       "Unused Modulex parts sold by LEGO    1836\n",
       "Cargo Train                          1796\n",
       "Destiny's Bounty                     1722\n",
       "Imperial Star Destroyer              1574\n",
       "The Ultimate Battle for Chima        1554\n",
       "NINJAGO City Markets                 1548\n",
       "Assembly Square                      1482\n",
       "Disney Castle                        1440\n",
       "Daily Bugle                          1408\n",
       "Death Star                           1353\n",
       "Mobile Crane                         1349\n",
       "Monkie Kid's Team Secret HQ          1344\n",
       "Name: name_sets, dtype: int64"
      ]
     },
     "execution_count": 24,
     "metadata": {},
     "output_type": "execute_result"
    }
   ],
   "source": [
    "unique_df[\"name_sets\"].value_counts().head(20)"
   ]
  },
  {
   "cell_type": "markdown",
   "id": "b5fbdbe2",
   "metadata": {},
   "source": [
    "# Les pièce les plus utiliser dans le temps"
   ]
  },
  {
   "cell_type": "code",
   "execution_count": 25,
   "id": "a711a893",
   "metadata": {},
   "outputs": [
    {
     "name": "stdout",
     "output_type": "stream",
     "text": [
      "year\n",
      "1949.0    Brick 2 x 2 without Bottom Tubes, Slotted (wit...\n",
      "1950.0    Brick 2 x 2 without Bottom Tubes, Slotted (wit...\n",
      "1953.0    Brick 1 x 2 without Bottom Tube, Slotted (with...\n",
      "1954.0                   Brick 2 x 4 without Cross Supports\n",
      "1955.0       Brick Round 1 x 1 Solid Stud, No Bottom Groove\n",
      "                                ...                        \n",
      "2019.0                                          Plate 1 x 2\n",
      "2020.0                    Plate Round 1 x 1 with Solid Stud\n",
      "2021.0                                     Tile Round 1 x 1\n",
      "2022.0                                          Plate 1 x 2\n",
      "2023.0                                          Plate 1 x 2\n",
      "Length: 73, dtype: object\n"
     ]
    }
   ],
   "source": [
    "df_most_used_years =df_parts.groupby([\"name_part\", \"year\"])[\"quantity\"].sum().unstack()\n",
    "print(df_most_used_years.idxmax())"
   ]
  },
  {
   "cell_type": "code",
   "execution_count": 26,
   "id": "14dd59e2",
   "metadata": {},
   "outputs": [],
   "source": [
    "df_most_used_years.idxmax().to_csv(\"../Datas/df_most_used_years.csv\")"
   ]
  }
 ],
 "metadata": {
  "kernelspec": {
   "display_name": "Python 3 (ipykernel)",
   "language": "python",
   "name": "python3"
  },
  "language_info": {
   "codemirror_mode": {
    "name": "ipython",
    "version": 3
   },
   "file_extension": ".py",
   "mimetype": "text/x-python",
   "name": "python",
   "nbconvert_exporter": "python",
   "pygments_lexer": "ipython3",
   "version": "3.11.3"
  }
 },
 "nbformat": 4,
 "nbformat_minor": 5
}
