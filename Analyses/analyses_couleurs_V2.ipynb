{
 "cells": [
  {
   "cell_type": "code",
   "execution_count": 227,
   "id": "f648dd10",
   "metadata": {},
   "outputs": [],
   "source": [
    "import pandas as pd\n",
    "import numpy as np\n",
    "import requests\n",
    "import matplotlib.pyplot as plt\n",
    "import matplotlib.colors as mcolors\n",
    "import seaborn as sns\n",
    "import matplotlib.patches as mpatches"
   ]
  },
  {
   "cell_type": "code",
   "execution_count": 228,
   "id": "781f4510",
   "metadata": {},
   "outputs": [],
   "source": [
    "old_df = pd.read_csv('../Datas/colors.csv')\n",
    "colors = pd.read_csv('../Datas/colors_cleaned.csv')"
   ]
  },
  {
   "cell_type": "markdown",
   "id": "346d9390",
   "metadata": {},
   "source": [
    "### Nombre de couleurs uniques LEGO"
   ]
  },
  {
   "cell_type": "code",
   "execution_count": 229,
   "id": "19eaaa5c",
   "metadata": {},
   "outputs": [
    {
     "name": "stdout",
     "output_type": "stream",
     "text": [
      "Nombre de couleurs de la gamme LEGO en 2023 : 231\n",
      "Versus nombre de couleurs de la gamme LEGO utilisés en 2023 : 219\n",
      "Soit 12 existantes mais non listées au sein des sets de jeux.\n"
     ]
    }
   ],
   "source": [
    "nb_couleur = old_df['id'].nunique()\n",
    "nb_couleurs_utilisées = colors['couleur_id'].nunique()\n",
    "\n",
    "print('Nombre de couleurs de la gamme LEGO en 2023 :', nb_couleur)\n",
    "print('Versus nombre de couleurs de la gamme LEGO utilisés en 2023 :', nb_couleurs_utilisées)\n",
    "print('Soit', nb_couleur - nb_couleurs_utilisées, 'existantes mais non listées au sein des sets de jeux.')"
   ]
  },
  {
   "cell_type": "markdown",
   "id": "37e132c2",
   "metadata": {},
   "source": [
    "### Transformer ma colonne couleur_code en valeurs RRGGBB"
   ]
  },
  {
   "cell_type": "code",
   "execution_count": 230,
   "id": "f5d7ad32",
   "metadata": {},
   "outputs": [
    {
     "data": {
      "text/html": [
       "<div>\n",
       "<style scoped>\n",
       "    .dataframe tbody tr th:only-of-type {\n",
       "        vertical-align: middle;\n",
       "    }\n",
       "\n",
       "    .dataframe tbody tr th {\n",
       "        vertical-align: top;\n",
       "    }\n",
       "\n",
       "    .dataframe thead th {\n",
       "        text-align: right;\n",
       "    }\n",
       "</style>\n",
       "<table border=\"1\" class=\"dataframe\">\n",
       "  <thead>\n",
       "    <tr style=\"text-align: right;\">\n",
       "      <th></th>\n",
       "      <th>piece_id</th>\n",
       "      <th>is_spare</th>\n",
       "      <th>couleur_id</th>\n",
       "      <th>couleur_nom</th>\n",
       "      <th>couleur_code</th>\n",
       "      <th>is_trans</th>\n",
       "      <th>set_id</th>\n",
       "      <th>set_nom</th>\n",
       "      <th>set_annee</th>\n",
       "      <th>set_nb_pieces</th>\n",
       "      <th>univers_id</th>\n",
       "      <th>univers_nom</th>\n",
       "    </tr>\n",
       "  </thead>\n",
       "  <tbody>\n",
       "    <tr>\n",
       "      <th>0</th>\n",
       "      <td>brickslot0004</td>\n",
       "      <td>f</td>\n",
       "      <td>15</td>\n",
       "      <td>White</td>\n",
       "      <td>#FFFFFF</td>\n",
       "      <td>f</td>\n",
       "      <td>700.3-1</td>\n",
       "      <td>Medium Gift Set (ABB)</td>\n",
       "      <td>1949</td>\n",
       "      <td>142</td>\n",
       "      <td>365</td>\n",
       "      <td>System</td>\n",
       "    </tr>\n",
       "  </tbody>\n",
       "</table>\n",
       "</div>"
      ],
      "text/plain": [
       "        piece_id is_spare  couleur_id couleur_nom couleur_code is_trans  \\\n",
       "0  brickslot0004        f          15       White      #FFFFFF        f   \n",
       "\n",
       "    set_id                set_nom  set_annee  set_nb_pieces  univers_id  \\\n",
       "0  700.3-1  Medium Gift Set (ABB)       1949            142         365   \n",
       "\n",
       "  univers_nom  \n",
       "0      System  "
      ]
     },
     "metadata": {},
     "output_type": "display_data"
    }
   ],
   "source": [
    "colors['couleur_code'] = '#' + colors['couleur_code']\n",
    "display(colors.head(1))"
   ]
  },
  {
   "cell_type": "markdown",
   "id": "12addc3a",
   "metadata": {},
   "source": [
    "### Afficher le nombre de couleurs existantes par année"
   ]
  },
  {
   "cell_type": "code",
   "execution_count": null,
   "id": "c8baeaf7",
   "metadata": {},
   "outputs": [],
   "source": [
    "# Regroupement des couleurs par année\n",
    "grouped = colors.groupby('set_annee')['couleur_code'].apply(list)\n",
    "\n",
    "# Années à afficher dans la légende\n",
    "legend_years = [1960, 1980, 2000, 2020]\n",
    "\n",
    "# Création du diagramme en bâton avec les carrés de couleur\n",
    "fig, ax = plt.subplots(figsize=(10, 6))\n",
    "\n",
    "# Parcours des groupes et création des barres\n",
    "for year, color_codes in grouped.items():\n",
    "    color_patches = [mpatches.Patch(color=color, label=color) for color in color_codes]\n",
    "    for i, color in enumerate(color_codes):\n",
    "        ax.add_patch(mpatches.Rectangle((year - 0.2, i), 0.4, 0.8, color=color))\n",
    "    if year in legend_years:\n",
    "        ax.legend(handles=color_patches, loc='center left', bbox_to_anchor=(1, 0.5))\n",
    "\n",
    "ax.set_xlabel('Année')\n",
    "ax.set_ylabel('Couleurs')\n",
    "ax.set_title('Répartition des couleurs par année')\n",
    "plt.xticks(rotation=45)\n",
    "plt.yticks([])  # Pour cacher les valeurs de l'axe y\n",
    "plt.tight_layout()\n",
    "\n",
    "plt.show()"
   ]
  },
  {
   "cell_type": "code",
   "execution_count": null,
   "id": "eb1e5983",
   "metadata": {},
   "outputs": [],
   "source": []
  },
  {
   "cell_type": "code",
   "execution_count": null,
   "id": "64ed8f88",
   "metadata": {},
   "outputs": [],
   "source": []
  }
 ],
 "metadata": {
  "kernelspec": {
   "display_name": "Python 3 (ipykernel)",
   "language": "python",
   "name": "python3"
  },
  "language_info": {
   "codemirror_mode": {
    "name": "ipython",
    "version": 3
   },
   "file_extension": ".py",
   "mimetype": "text/x-python",
   "name": "python",
   "nbconvert_exporter": "python",
   "pygments_lexer": "ipython3",
   "version": "3.11.3"
  }
 },
 "nbformat": 4,
 "nbformat_minor": 5
}
