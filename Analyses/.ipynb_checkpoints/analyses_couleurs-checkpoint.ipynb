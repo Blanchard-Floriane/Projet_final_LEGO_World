{
 "cells": [
  {
   "cell_type": "code",
   "execution_count": 1,
   "id": "e2c83f1d",
   "metadata": {},
   "outputs": [],
   "source": [
    "import pandas as pd\n",
    "import numpy as np\n",
    "import requests\n",
    "import matplotlib.pyplot as plt\n",
    "import matplotlib.colors as mcolors\n",
    "import seaborn as sns\n",
    "import matplotlib.patches as mpatches"
   ]
  },
  {
   "cell_type": "code",
   "execution_count": 2,
   "id": "4fe8149d",
   "metadata": {},
   "outputs": [
    {
     "data": {
      "text/html": [
       "<div>\n",
       "<style scoped>\n",
       "    .dataframe tbody tr th:only-of-type {\n",
       "        vertical-align: middle;\n",
       "    }\n",
       "\n",
       "    .dataframe tbody tr th {\n",
       "        vertical-align: top;\n",
       "    }\n",
       "\n",
       "    .dataframe thead th {\n",
       "        text-align: right;\n",
       "    }\n",
       "</style>\n",
       "<table border=\"1\" class=\"dataframe\">\n",
       "  <thead>\n",
       "    <tr style=\"text-align: right;\">\n",
       "      <th></th>\n",
       "      <th>piece_id</th>\n",
       "      <th>is_spare</th>\n",
       "      <th>couleur_id</th>\n",
       "      <th>couleur_nom</th>\n",
       "      <th>couleur_code</th>\n",
       "      <th>is_trans</th>\n",
       "      <th>set_id</th>\n",
       "      <th>set_nom</th>\n",
       "      <th>set_annee</th>\n",
       "      <th>set_nb_pieces</th>\n",
       "      <th>univers_id</th>\n",
       "      <th>univers_nom</th>\n",
       "    </tr>\n",
       "  </thead>\n",
       "  <tbody>\n",
       "    <tr>\n",
       "      <th>0</th>\n",
       "      <td>brickslot0004</td>\n",
       "      <td>f</td>\n",
       "      <td>15</td>\n",
       "      <td>White</td>\n",
       "      <td>#FFFFFF</td>\n",
       "      <td>f</td>\n",
       "      <td>700.3-1</td>\n",
       "      <td>Medium Gift Set (ABB)</td>\n",
       "      <td>1949</td>\n",
       "      <td>142</td>\n",
       "      <td>365</td>\n",
       "      <td>System</td>\n",
       "    </tr>\n",
       "    <tr>\n",
       "      <th>1</th>\n",
       "      <td>brickslot0002</td>\n",
       "      <td>f</td>\n",
       "      <td>4</td>\n",
       "      <td>Red</td>\n",
       "      <td>#C91A09</td>\n",
       "      <td>f</td>\n",
       "      <td>700.3-1</td>\n",
       "      <td>Medium Gift Set (ABB)</td>\n",
       "      <td>1949</td>\n",
       "      <td>142</td>\n",
       "      <td>365</td>\n",
       "      <td>System</td>\n",
       "    </tr>\n",
       "  </tbody>\n",
       "</table>\n",
       "</div>"
      ],
      "text/plain": [
       "        piece_id is_spare  couleur_id couleur_nom couleur_code is_trans  \\\n",
       "0  brickslot0004        f          15       White      #FFFFFF        f   \n",
       "1  brickslot0002        f           4         Red      #C91A09        f   \n",
       "\n",
       "    set_id                set_nom  set_annee  set_nb_pieces  univers_id  \\\n",
       "0  700.3-1  Medium Gift Set (ABB)       1949            142         365   \n",
       "1  700.3-1  Medium Gift Set (ABB)       1949            142         365   \n",
       "\n",
       "  univers_nom  \n",
       "0      System  \n",
       "1      System  "
      ]
     },
     "metadata": {},
     "output_type": "display_data"
    }
   ],
   "source": [
    "old_df = pd.read_csv('../Datas/colors.csv')\n",
    "colors = pd.read_csv('../Datas/colors_cleaned.csv')\n",
    "display(colors.head(2))"
   ]
  },
  {
   "cell_type": "markdown",
   "id": "c67a89a3",
   "metadata": {},
   "source": [
    "### Nombre de couleurs uniques LEGO"
   ]
  },
  {
   "cell_type": "code",
   "execution_count": 3,
   "id": "107ecb97",
   "metadata": {},
   "outputs": [
    {
     "name": "stdout",
     "output_type": "stream",
     "text": [
      "Nombre de couleurs de la gamme LEGO en 2023 : 231\n",
      "Versus nombre de couleurs de la gamme LEGO utilisés en 2023 : 201\n",
      "Soit 30 existantes mais non listées au sein des sets de jeux.\n"
     ]
    }
   ],
   "source": [
    "nb_couleur = old_df['id'].nunique()\n",
    "nb_couleurs_utilisées = colors['couleur_id'].nunique()\n",
    "\n",
    "print('Nombre de couleurs de la gamme LEGO en 2023 :', nb_couleur)\n",
    "print('Versus nombre de couleurs de la gamme LEGO utilisés en 2023 :', nb_couleurs_utilisées)\n",
    "print('Soit', nb_couleur - nb_couleurs_utilisées, 'existantes mais non listées au sein des sets de jeux.')"
   ]
  },
  {
   "cell_type": "markdown",
   "id": "0b6416f6",
   "metadata": {},
   "source": [
    "### Afficher le nombre de couleurs existantes par année"
   ]
  },
  {
   "cell_type": "code",
   "execution_count": 4,
   "id": "263ef74d",
   "metadata": {},
   "outputs": [],
   "source": [
    "# Supprimer les doublons de codes hexadécimaux pour chaque année\n",
    "unique_colors_per_year = colors.drop_duplicates(subset=['set_annee', 'couleur_code'])"
   ]
  },
  {
   "cell_type": "code",
   "execution_count": 5,
   "id": "d1d2e6f1",
   "metadata": {},
   "outputs": [
    {
     "data": {
      "image/png": "[encoded data removed]",
      "text/plain": [
       "<Figure size 1000x600 with 1 Axes>"
      ]
     },
     "metadata": {},
     "output_type": "display_data"
    }
   ],
   "source": [
    "# Grouper les données par année et compter le nombre de couleurs uniques\n",
    "colors_by_year = unique_colors_per_year.groupby('set_annee')['couleur_code'].count()\n",
    "\n",
    "# Créer le graphique à barres\n",
    "plt.figure(figsize=(10, 6))\n",
    "legend_years = [1960, 1980, 2000, 2020]\n",
    "\n",
    "# Tracer les barres\n",
    "bars = colors_by_year.plot(kind='bar')\n",
    "\n",
    "# Créer une liste de positions pour les jalons d'année que vous souhaitez afficher sur l'axe x\n",
    "x_positions = [colors_by_year.index.get_loc(year) for year in legend_years]\n",
    "\n",
    "# Modifier les labels de l'axe x pour afficher uniquement les années souhaitées\n",
    "plt.xticks(x_positions, legend_years)\n",
    "\n",
    "# Créer une légende personnalisée avec les années spécifiées\n",
    "legend_labels = [str(year) for year in legend_years]\n",
    "\n",
    "plt.title(\"Nombre de couleurs uniques par année\")\n",
    "plt.xlabel(\"Année\")\n",
    "plt.ylabel(\"Nombre de couleurs uniques\")\n",
    "plt.show()"
   ]
  },
  {
   "cell_type": "markdown",
   "id": "16e2e0f9",
   "metadata": {},
   "source": [
    "### Faire apparaître sur le graph précédent des barres composées de chaque couleur"
   ]
  },
  {
   "cell_type": "code",
   "execution_count": 7,
   "id": "278a1965",
   "metadata": {},
   "outputs": [
    {
     "data": {
      "image/png": "[encoded data removed]",
      "text/plain": [
       "<Figure size 640x480 with 1 Axes>"
      ]
     },
     "metadata": {},
     "output_type": "display_data"
    },
    {
     "name": "stdout",
     "output_type": "stream",
     "text": [
      "LEGO existe depuis 74 ans, pour autant ce n'est que dans les 25 dernières années que le nombre moyen de couleurs par an a été multiplication par 5 , passant d'une moyenne de 13 couleurs entre 1949 et 1996 à une moyenne de 65 couleurs de 1996 à nos jours.\n",
      "\n"
     ]
    }
   ],
   "source": [
    "# Grouper les données par année et compter le nombre de couleurs uniques\n",
    "colors_by_year = unique_colors_per_year.groupby(['set_annee','couleur_code'])['couleur_code'].count().unstack()\n",
    "\n",
    "# Liste des codes hexadécimaux à partir des noms de colonnes\n",
    "color_hex_codes = colors_by_year.columns\n",
    "\n",
    "#Sélectionner les années que je veux faire apparaître en légende\n",
    "legend_years = [1960, 1980, 2000, 2020]\n",
    "\n",
    "# Tracer le graphique avec les couleurs de LEGO\n",
    "ax = colors_by_year.plot(kind='bar', stacked=True, color=color_hex_codes, legend=False)\n",
    "\n",
    "# Modifier les labels de l'axe x pour afficher uniquement les années souhaitées\n",
    "plt.xticks(x_positions, legend_years)\n",
    "\n",
    "# Créer une légende personnalisée avec les années spécifiées\n",
    "legend_labels = [str(year) for year in legend_years]\n",
    "\n",
    "plt.title(\"Nombre de couleurs uniques par année\")\n",
    "plt.xlabel(\"Année\")\n",
    "plt.ylabel(\"Nombre de couleurs uniques\")\n",
    "plt.show()\n",
    "\n",
    "# Filtrer les données pour les années entre 1949 et 1996\n",
    "before_96 = unique_colors_per_year[(unique_colors_per_year['set_annee'] <= 1996)]\n",
    "after_96 = unique_colors_per_year[(unique_colors_per_year['set_annee'] > 1996) & (unique_colors_per_year['set_annee'] <= 2023)]\n",
    "\n",
    "sum_colors_bf_96 = {}\n",
    "\n",
    "# Avant 96\n",
    "for annee in range(1949, 1997): # De 1949 à 1996 inclus\n",
    "    annee_data = before_96[before_96['set_annee'] == annee]\n",
    "    unique_colors = annee_data['couleur_id'].nunique()\n",
    "    sum_colors_bf_96[annee] = unique_colors\n",
    "\n",
    "# Tout additionner puis diviser afin d'obtenir la moyenne arrondi sans décimal\n",
    "avg_colors_bf_96 = int(sum(sum_colors_bf_96.values()) / (1996 - 1949 + 1))\n",
    "\n",
    "\n",
    "# Après 96\n",
    "sum_colors_after_96 = {}\n",
    "\n",
    "for annee in range(1997, 2024): # De 1997 à 2023 inclus\n",
    "    annee_data = after_96[after_96['set_annee'] == annee]\n",
    "    unique_colors = annee_data['couleur_id'].nunique()\n",
    "    sum_colors_after_96[annee] = unique_colors\n",
    "\n",
    "avg_colors_after_96 = int(sum(sum_colors_after_96.values()) / (2023 - 1997 + 1))\n",
    "\n",
    "percent_growth = avg_colors_after_96 / avg_colors_bf_96\n",
    "percent_growth = int(percent_growth)\n",
    "\n",
    "print('LEGO existe depuis 74 ans, pour autant ce n\\'est que dans les 25 dernières années que le nombre moyen de couleurs par an a été multiplication par', percent_growth, ', passant d\\'une moyenne de', avg_colors_bf_96, 'couleurs entre 1949 et 1996 à une moyenne de', avg_colors_after_96,'couleurs de 1996 à nos jours.')\n",
    "print('')"
   ]
  },
  {
   "cell_type": "markdown",
   "id": "38693750",
   "metadata": {},
   "source": [
    "### Ordre de grandeur des couleurs par nombre de pièces"
   ]
  },
  {
   "cell_type": "code",
   "execution_count": 30,
   "id": "fff6a03e",
   "metadata": {},
   "outputs": [
    {
     "data": {
      "text/html": [
       "<div>\n",
       "<style scoped>\n",
       "    .dataframe tbody tr th:only-of-type {\n",
       "        vertical-align: middle;\n",
       "    }\n",
       "\n",
       "    .dataframe tbody tr th {\n",
       "        vertical-align: top;\n",
       "    }\n",
       "\n",
       "    .dataframe thead th {\n",
       "        text-align: right;\n",
       "    }\n",
       "</style>\n",
       "<table border=\"1\" class=\"dataframe\">\n",
       "  <thead>\n",
       "    <tr style=\"text-align: right;\">\n",
       "      <th></th>\n",
       "      <th>couleur_id</th>\n",
       "      <th>couleur_nom</th>\n",
       "      <th>couleur_code</th>\n",
       "      <th>nombre_pieces</th>\n",
       "    </tr>\n",
       "  </thead>\n",
       "  <tbody>\n",
       "    <tr>\n",
       "      <th>1</th>\n",
       "      <td>0</td>\n",
       "      <td>Black</td>\n",
       "      <td>#05131D</td>\n",
       "      <td>196368</td>\n",
       "    </tr>\n",
       "    <tr>\n",
       "      <th>16</th>\n",
       "      <td>15</td>\n",
       "      <td>White</td>\n",
       "      <td>#FFFFFF</td>\n",
       "      <td>124682</td>\n",
       "    </tr>\n",
       "    <tr>\n",
       "      <th>53</th>\n",
       "      <td>71</td>\n",
       "      <td>Light Bluish Gray</td>\n",
       "      <td>#A0A5A9</td>\n",
       "      <td>119722</td>\n",
       "    </tr>\n",
       "    <tr>\n",
       "      <th>54</th>\n",
       "      <td>72</td>\n",
       "      <td>Dark Bluish Gray</td>\n",
       "      <td>#6C6E68</td>\n",
       "      <td>88334</td>\n",
       "    </tr>\n",
       "    <tr>\n",
       "      <th>5</th>\n",
       "      <td>4</td>\n",
       "      <td>Red</td>\n",
       "      <td>#C91A09</td>\n",
       "      <td>83906</td>\n",
       "    </tr>\n",
       "    <tr>\n",
       "      <th>...</th>\n",
       "      <td>...</td>\n",
       "      <td>...</td>\n",
       "      <td>...</td>\n",
       "      <td>...</td>\n",
       "    </tr>\n",
       "    <tr>\n",
       "      <th>179</th>\n",
       "      <td>1081</td>\n",
       "      <td>Rust Orange</td>\n",
       "      <td>#872B17</td>\n",
       "      <td>1</td>\n",
       "    </tr>\n",
       "    <tr>\n",
       "      <th>197</th>\n",
       "      <td>1101</td>\n",
       "      <td>Duplo Dark Purple</td>\n",
       "      <td>#5F27AA</td>\n",
       "      <td>1</td>\n",
       "    </tr>\n",
       "    <tr>\n",
       "      <th>173</th>\n",
       "      <td>1075</td>\n",
       "      <td>Duplo Medium Blue</td>\n",
       "      <td>#3E95B6</td>\n",
       "      <td>1</td>\n",
       "    </tr>\n",
       "    <tr>\n",
       "      <th>49</th>\n",
       "      <td>64</td>\n",
       "      <td>Chrome Black</td>\n",
       "      <td>#1B2A34</td>\n",
       "      <td>1</td>\n",
       "    </tr>\n",
       "    <tr>\n",
       "      <th>176</th>\n",
       "      <td>1078</td>\n",
       "      <td>Duplo Medium Green</td>\n",
       "      <td>#468A5F</td>\n",
       "      <td>1</td>\n",
       "    </tr>\n",
       "  </tbody>\n",
       "</table>\n",
       "<p>201 rows × 4 columns</p>\n",
       "</div>"
      ],
      "text/plain": [
       "     couleur_id         couleur_nom couleur_code  nombre_pieces\n",
       "1             0               Black      #05131D         196368\n",
       "16           15               White      #FFFFFF         124682\n",
       "53           71   Light Bluish Gray      #A0A5A9         119722\n",
       "54           72    Dark Bluish Gray      #6C6E68          88334\n",
       "5             4                 Red      #C91A09          83906\n",
       "..          ...                 ...          ...            ...\n",
       "179        1081         Rust Orange      #872B17              1\n",
       "197        1101   Duplo Dark Purple      #5F27AA              1\n",
       "173        1075   Duplo Medium Blue      #3E95B6              1\n",
       "49           64        Chrome Black      #1B2A34              1\n",
       "176        1078  Duplo Medium Green      #468A5F              1\n",
       "\n",
       "[201 rows x 4 columns]"
      ]
     },
     "metadata": {},
     "output_type": "display_data"
    }
   ],
   "source": [
    "# Rappel ma df 'colors' est déjà rangé par pièce, une ligne = une pièce id\n",
    "color_rank = colors.groupby(['couleur_id','couleur_nom','couleur_code'])['piece_id'].count().reset_index()\n",
    "color_rank.columns = ['couleur_id', 'couleur_nom','couleur_code', 'nombre_pieces']\n",
    "color_rank = color_rank.sort_values(by='nombre_pieces', ascending=False)\n",
    "\n",
    "display(color_rank)"
   ]
  },
  {
   "cell_type": "markdown",
   "id": "50722a2a",
   "metadata": {},
   "source": [
    "### Couleurs par univers"
   ]
  },
  {
   "cell_type": "code",
   "execution_count": null,
   "id": "196163f7",
   "metadata": {},
   "outputs": [],
   "source": []
  },
  {
   "cell_type": "code",
   "execution_count": null,
   "id": "3dce2d9f",
   "metadata": {},
   "outputs": [],
   "source": []
  },
  {
   "cell_type": "code",
   "execution_count": null,
   "id": "8ceaf694",
   "metadata": {},
   "outputs": [],
   "source": []
  },
  {
   "cell_type": "code",
   "execution_count": null,
   "id": "73f11ca9",
   "metadata": {},
   "outputs": [],
   "source": [
    "exemple de couleur créés pour Harry Potter ?"
   ]
  }
 ],
 "metadata": {
  "kernelspec": {
   "display_name": "Python 3 (ipykernel)",
   "language": "python",
   "name": "python3"
  },
  "language_info": {
   "codemirror_mode": {
    "name": "ipython",
    "version": 3
   },
   "file_extension": ".py",
   "mimetype": "text/x-python",
   "name": "python",
   "nbconvert_exporter": "python",
   "pygments_lexer": "ipython3",
   "version": "3.11.3"
  }
 },
 "nbformat": 4,
 "nbformat_minor": 5
}
