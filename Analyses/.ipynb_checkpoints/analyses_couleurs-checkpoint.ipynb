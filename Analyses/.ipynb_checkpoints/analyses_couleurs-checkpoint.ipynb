{
 "cells": [
  {
   "cell_type": "code",
   "execution_count": null,
   "id": "f648dd10",
   "metadata": {},
   "outputs": [],
   "source": [
    "import pandas as pd\n",
    "import numpy as np\n",
    "import requests\n",
    "import matplotlib.pyplot as plt\n",
    "import matplotlib.colors as mcolors\n",
    "import seaborn as sns\n",
    "import matplotlib.patches as mpatches"
   ]
  },
  {
   "cell_type": "code",
   "execution_count": null,
   "id": "781f4510",
   "metadata": {},
   "outputs": [],
   "source": [
    "old_df = pd.read_csv('../Datas/colors.csv')\n",
    "colors = pd.read_csv('../Datas/colors_cleaned.csv')"
   ]
  },
  {
   "cell_type": "markdown",
   "id": "e033e282",
   "metadata": {},
   "source": [
    "### Nombre de couleurs uniques LEGO"
   ]
  },
  {
   "cell_type": "code",
   "execution_count": null,
   "id": "19eaaa5c",
   "metadata": {},
   "outputs": [],
   "source": [
    "nb_couleur = old_df['id'].nunique()\n",
    "nb_couleurs_utilisées = colors['couleur_id'].nunique()\n",
    "\n",
    "print('Nombre de couleurs de la gamme LEGO en 2023 :', nb_couleur)\n",
    "print('Versus nombre de couleurs de la gamme LEGO utilisés en 2023 :', nb_couleurs_utilisées)\n",
    "print('Soit', nb_couleur - nb_couleurs_utilisées, 'existantes mais non listées au sein des sets de jeux.')"
   ]
  },
  {
   "cell_type": "markdown",
   "id": "79b49d15",
   "metadata": {},
   "source": [
    "### Transformer ma colonne couleur_code en valeurs RRGGBB"
   ]
  },
  {
   "cell_type": "code",
   "execution_count": null,
   "id": "1fb7801f",
   "metadata": {},
   "outputs": [],
   "source": [
    "colors['couleur_code'] = '#' + colors['couleur_code']\n",
    "display(colors.head(1))"
   ]
  },
  {
   "cell_type": "markdown",
   "id": "617cae97",
   "metadata": {},
   "source": [
    "### Afficher le nombre de couleurs existantes par année"
   ]
  },
  {
   "cell_type": "code",
   "execution_count": null,
   "id": "8edbf3bf",
   "metadata": {},
   "outputs": [],
   "source": [
    "# Regroupement des couleurs par année\n",
    "grouped = colors.groupby('set_annee')['couleur_code'].apply(list)\n",
    "\n",
    "# Création du diagramme en bâton\n",
    "fig, ax = plt.subplots(figsize=(10, 6))\n",
    "\n",
    "# Parcours des groupes et création des barres\n",
    "for year, color_codes in grouped.items():\n",
    "    color_patches = [mpatches.Patch(color=color, label=color) for color in color_codes]\n",
    "    ax.bar(year, 1, color=color_codes)\n",
    "    ax.legend(handles=color_patches, loc='center left', bbox_to_anchor=(1, 0.5))\n",
    "\n",
    "ax.set_xlabel('Année')\n",
    "ax.set_ylabel('Nombre de couleurs')\n",
    "ax.set_title('Répartition des couleurs par année')\n",
    "plt.xticks(rotation=45)\n",
    "plt.tight_layout()\n",
    "\n",
    "plt.show()"
   ]
  },
  {
   "cell_type": "code",
   "execution_count": null,
   "id": "03631ec3",
   "metadata": {},
   "outputs": [],
   "source": []
  },
  {
   "cell_type": "code",
   "execution_count": null,
   "id": "5257b452",
   "metadata": {},
   "outputs": [],
   "source": []
  }
 ],
 "metadata": {
  "kernelspec": {
   "display_name": "Python 3 (ipykernel)",
   "language": "python",
   "name": "python3"
  },
  "language_info": {
   "codemirror_mode": {
    "name": "ipython",
    "version": 3
   },
   "file_extension": ".py",
   "mimetype": "text/x-python",
   "name": "python",
   "nbconvert_exporter": "python",
   "pygments_lexer": "ipython3",
   "version": "3.11.3"
  }
 },
 "nbformat": 4,
 "nbformat_minor": 5
}
