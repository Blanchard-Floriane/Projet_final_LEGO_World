{
 "cells": [
  {
   "cell_type": "code",
   "execution_count": 13,
   "id": "70a59936",
   "metadata": {},
   "outputs": [],
   "source": [
    "import pandas as pd\n",
    "import numpy as np\n",
    "import requests"
   ]
  },
  {
   "cell_type": "code",
   "execution_count": 14,
   "id": "1d98074a",
   "metadata": {},
   "outputs": [],
   "source": [
    "colors = pd.read_csv('../Datas/colors.csv')\n",
    "elements = pd.read_csv('../Datas/elements.csv')\n",
    "inventory_parts = pd.read_csv('../Datas/inventory_parts.csv')\n",
    "inventories = pd.read_csv('../Datas/inventories.csv')\n",
    "sets = pd.read_csv('../Datas/sets.csv')\n",
    "themes= pd.read_csv('../Datas/themes.csv')\n",
    "part_categories = pd.read_csv('../Datas/part_categories.csv')\n",
    "parts = pd.read_csv('../Datas/parts.csv')"
   ]
  },
  {
   "cell_type": "markdown",
   "id": "a649e771",
   "metadata": {},
   "source": [
    "### Joindre inventory_parts et inventories"
   ]
  },
  {
   "cell_type": "code",
   "execution_count": 15,
   "id": "bfcf3c51",
   "metadata": {},
   "outputs": [],
   "source": [
    "#merge les fichiers pour ajouter l'infos set_num\n",
    "inventory_add_set_num = pd.merge(inventory_parts[:-1], inventories[['set_num','id']], left_on='inventory_id', right_on='id', how='left').drop('id',axis=1).drop('img_url',axis=1)\n",
    "\n",
    "#renommer quantity et set_num\n",
    "inventory_add_set_num.rename(columns={'quantity':'part_quantity'},inplace=True)\n",
    "inventory_add_set_num.rename(columns={'set_num':'set_id'},inplace = True)\n",
    "\n",
    "#vérifier l'existence de pièces de remplassement pour voir si je garde la colonne\n",
    "is_spare_true = inventory_add_set_num.loc[inventory_add_set_num['is_spare'] == 't']"
   ]
  },
  {
   "cell_type": "markdown",
   "id": "04b7b9f7",
   "metadata": {},
   "source": [
    "### Adjoindre maintenant le df sets et cleaner le résultat"
   ]
  },
  {
   "cell_type": "code",
   "execution_count": 16,
   "id": "1a10a1f0",
   "metadata": {},
   "outputs": [],
   "source": [
    "inventories_and_sets = pd.merge(inventory_add_set_num, sets, left_on ='set_id', right_on ='set_num', how='left').drop('set_num',axis=1).drop('img_url', axis=1)\n",
    "\n",
    "columns_to_convert = ['year','theme_id','num_parts']\n",
    "default_value = 0  # Valeur par défaut à utiliser pour remplacer les valeurs non valides\n",
    "inventories_and_sets[columns_to_convert] = inventories_and_sets[columns_to_convert].fillna(default_value).astype(int)\n",
    "\n",
    "#renommer les colonnes\n",
    "inventories_and_sets.rename(columns={'name':'set_nom'},inplace = True)\n",
    "inventories_and_sets.rename(columns = {'year':'set_annee'},inplace = True)\n",
    "inventories_and_sets.rename(columns = {'part_num':'piece_id'},inplace = True)\n",
    "inventories_and_sets.rename(columns = {'part_quantity':'piece_quantity'},inplace = True)\n",
    "inventories_and_sets.rename(columns = {'num_parts':'set_nb_pieces'},inplace = True)"
   ]
  },
  {
   "cell_type": "markdown",
   "id": "e47de8d9",
   "metadata": {},
   "source": [
    "### Ajouter les infos sur les univers"
   ]
  },
  {
   "cell_type": "code",
   "execution_count": 17,
   "id": "1a7be158",
   "metadata": {},
   "outputs": [],
   "source": [
    "inventories_sets_univers = pd.merge(inventories_and_sets, themes[['id','name']], left_on = 'theme_id', right_on = 'id', how='left').drop('id',axis=1)\n",
    "inventories_sets_univers.rename(columns = {'theme_id':'univers_id'}, inplace = True)\n",
    "inventories_sets_univers.rename(columns = {'name':'univers_nom'}, inplace = True)\n",
    "\n",
    "#déplacer ma colonne 'num_parts'\n",
    "inventories_sets_univers.insert(8, 'set_nb_pieces', inventories_sets_univers.pop('set_nb_pieces'))\n",
    "\n",
    "#supprimer colonnes piece_quantity et inventory_id que je nutilise pas\n",
    "inventories_sets_univers = inventories_sets_univers.drop('piece_quantity',axis=1)\n",
    "sets_univers = inventories_sets_univers.drop('inventory_id', axis=1)\n"
   ]
  },
  {
   "cell_type": "markdown",
   "id": "caccba71",
   "metadata": {},
   "source": [
    "### Supprimer les lignes NaN et trier selon colonne 'piece_id'"
   ]
  },
  {
   "cell_type": "code",
   "execution_count": 18,
   "id": "01e6db0b",
   "metadata": {},
   "outputs": [],
   "source": [
    "sets_univers = sets_univers.dropna(subset=['set_nom'])\n",
    "sets_univers = sets_univers.sort_values(by='set_annee', ascending=True)"
   ]
  },
  {
   "cell_type": "markdown",
   "id": "60c16371",
   "metadata": {},
   "source": [
    "### Vérifier les codes hexadécimaux dans le fichiers 'colors'"
   ]
  },
  {
   "cell_type": "code",
   "execution_count": 19,
   "id": "e139cf9e",
   "metadata": {},
   "outputs": [],
   "source": [
    "# Convertir la colonne en string\n",
    "colors['rgb'] = colors['rgb'].astype(str)\n",
    "\n",
    "colors_lenght = colors[colors['rgb'].str.len() == 6]"
   ]
  },
  {
   "cell_type": "markdown",
   "id": "f85558f8",
   "metadata": {},
   "source": [
    "### Ajouter les colonnes 'couleur_nom' et 'couleur_code'"
   ]
  },
  {
   "cell_type": "code",
   "execution_count": 20,
   "id": "63049295",
   "metadata": {},
   "outputs": [],
   "source": [
    "colors_df = pd.merge(sets_univers, colors, left_on = 'color_id', right_on = 'id', how = 'left').drop('id', axis=1)"
   ]
  },
  {
   "cell_type": "code",
   "execution_count": 21,
   "id": "c069d3f0",
   "metadata": {},
   "outputs": [],
   "source": [
    "colors_df.insert(4, 'couleur_nom', colors_df.pop('name'))\n",
    "colors_df.insert(5, 'couleur_code', colors_df.pop('rgb'))\n",
    "colors_df.insert(3, 'couleur_id', colors_df.pop('color_id'))\n",
    "colors_df.insert(6, 'is_trans', colors_df.pop('is_trans'))\n",
    "colors_df.insert(6, 'set_id', colors_df.pop('set_id'))"
   ]
  },
  {
   "cell_type": "markdown",
   "id": "ec4959fc",
   "metadata": {},
   "source": [
    "### Transformer ma colonne couleur_code en hexadécimal"
   ]
  },
  {
   "cell_type": "code",
   "execution_count": 22,
   "id": "4e0c2864",
   "metadata": {},
   "outputs": [],
   "source": [
    "colors_df['couleur_code'] = '#' + colors_df['couleur_code']"
   ]
  },
  {
   "cell_type": "markdown",
   "id": "0ab50595",
   "metadata": {},
   "source": [
    "### Supprimer les sets 'unused'"
   ]
  },
  {
   "cell_type": "code",
   "execution_count": 23,
   "id": "94ec3338",
   "metadata": {},
   "outputs": [],
   "source": [
    "colors_df = colors_df[~colors_df['set_nom'].str.contains('Unused')]"
   ]
  },
  {
   "cell_type": "markdown",
   "id": "e8d57730",
   "metadata": {},
   "source": [
    "### Créer le nouveau fichier csv couleurs"
   ]
  },
  {
   "cell_type": "code",
   "execution_count": 24,
   "id": "abab7002",
   "metadata": {},
   "outputs": [],
   "source": [
    "colors_df.to_csv('../Datas/colors_cleaned.csv', index = False)"
   ]
  },
  {
   "cell_type": "code",
   "execution_count": 26,
   "id": "d6fb8d7d",
   "metadata": {},
   "outputs": [
    {
     "data": {
      "text/html": [
       "<div>\n",
       "<style scoped>\n",
       "    .dataframe tbody tr th:only-of-type {\n",
       "        vertical-align: middle;\n",
       "    }\n",
       "\n",
       "    .dataframe tbody tr th {\n",
       "        vertical-align: top;\n",
       "    }\n",
       "\n",
       "    .dataframe thead th {\n",
       "        text-align: right;\n",
       "    }\n",
       "</style>\n",
       "<table border=\"1\" class=\"dataframe\">\n",
       "  <thead>\n",
       "    <tr style=\"text-align: right;\">\n",
       "      <th></th>\n",
       "      <th>piece_id</th>\n",
       "      <th>is_spare</th>\n",
       "      <th>couleur_id</th>\n",
       "      <th>couleur_nom</th>\n",
       "      <th>couleur_code</th>\n",
       "      <th>is_trans</th>\n",
       "      <th>set_id</th>\n",
       "      <th>set_nom</th>\n",
       "      <th>set_annee</th>\n",
       "      <th>set_nb_pieces</th>\n",
       "      <th>univers_id</th>\n",
       "      <th>univers_nom</th>\n",
       "    </tr>\n",
       "  </thead>\n",
       "  <tbody>\n",
       "    <tr>\n",
       "      <th>0</th>\n",
       "      <td>brickslot0004</td>\n",
       "      <td>f</td>\n",
       "      <td>15</td>\n",
       "      <td>White</td>\n",
       "      <td>#FFFFFF</td>\n",
       "      <td>f</td>\n",
       "      <td>700.3-1</td>\n",
       "      <td>Medium Gift Set (ABB)</td>\n",
       "      <td>1949</td>\n",
       "      <td>142</td>\n",
       "      <td>365</td>\n",
       "      <td>System</td>\n",
       "    </tr>\n",
       "    <tr>\n",
       "      <th>1</th>\n",
       "      <td>brickslot0002</td>\n",
       "      <td>f</td>\n",
       "      <td>4</td>\n",
       "      <td>Red</td>\n",
       "      <td>#C91A09</td>\n",
       "      <td>f</td>\n",
       "      <td>700.3-1</td>\n",
       "      <td>Medium Gift Set (ABB)</td>\n",
       "      <td>1949</td>\n",
       "      <td>142</td>\n",
       "      <td>365</td>\n",
       "      <td>System</td>\n",
       "    </tr>\n",
       "    <tr>\n",
       "      <th>2</th>\n",
       "      <td>brickslot0002</td>\n",
       "      <td>f</td>\n",
       "      <td>2</td>\n",
       "      <td>Green</td>\n",
       "      <td>#237841</td>\n",
       "      <td>f</td>\n",
       "      <td>700.3-1</td>\n",
       "      <td>Medium Gift Set (ABB)</td>\n",
       "      <td>1949</td>\n",
       "      <td>142</td>\n",
       "      <td>365</td>\n",
       "      <td>System</td>\n",
       "    </tr>\n",
       "  </tbody>\n",
       "</table>\n",
       "</div>"
      ],
      "text/plain": [
       "        piece_id is_spare  couleur_id couleur_nom couleur_code is_trans  \\\n",
       "0  brickslot0004        f          15       White      #FFFFFF        f   \n",
       "1  brickslot0002        f           4         Red      #C91A09        f   \n",
       "2  brickslot0002        f           2       Green      #237841        f   \n",
       "\n",
       "    set_id                set_nom  set_annee  set_nb_pieces  univers_id  \\\n",
       "0  700.3-1  Medium Gift Set (ABB)       1949            142         365   \n",
       "1  700.3-1  Medium Gift Set (ABB)       1949            142         365   \n",
       "2  700.3-1  Medium Gift Set (ABB)       1949            142         365   \n",
       "\n",
       "  univers_nom  \n",
       "0      System  \n",
       "1      System  \n",
       "2      System  "
      ]
     },
     "metadata": {},
     "output_type": "display_data"
    }
   ],
   "source": [
    "display(colors_df.head(3))"
   ]
  },
  {
   "cell_type": "code",
   "execution_count": null,
   "id": "b7085b39",
   "metadata": {},
   "outputs": [],
   "source": []
  }
 ],
 "metadata": {
  "kernelspec": {
   "display_name": "Python 3 (ipykernel)",
   "language": "python",
   "name": "python3"
  },
  "language_info": {
   "codemirror_mode": {
    "name": "ipython",
    "version": 3
   },
   "file_extension": ".py",
   "mimetype": "text/x-python",
   "name": "python",
   "nbconvert_exporter": "python",
   "pygments_lexer": "ipython3",
   "version": "3.11.3"
  }
 },
 "nbformat": 4,
 "nbformat_minor": 5
}
