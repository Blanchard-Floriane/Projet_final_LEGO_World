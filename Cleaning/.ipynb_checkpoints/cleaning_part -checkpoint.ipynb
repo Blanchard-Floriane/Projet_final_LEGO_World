{
 "cells": [
  {
   "cell_type": "code",
   "execution_count": 1,
   "id": "fec2529e",
   "metadata": {},
   "outputs": [],
   "source": [
    "import pandas as pd\n",
    "import numpy as np\n",
    "import re\n",
    "import datetime\n",
    "from datetime import timedelta "
   ]
  },
  {
   "cell_type": "code",
   "execution_count": 2,
   "id": "c6ed3cbd",
   "metadata": {},
   "outputs": [],
   "source": [
    "colors = pd.read_csv('../Datas/colors.csv')\n",
    "elements = pd.read_csv('../Datas/elements.csv')\n",
    "inventory_parts = pd.read_csv('../Datas/inventory_parts.csv')\n",
    "inventories = pd.read_csv('../Datas/inventories.csv')\n",
    "sets = pd.read_csv('../Datas/sets.csv')\n",
    "themes= pd.read_csv('../Datas/themes.csv')\n",
    "part_categories = pd.read_csv('../Datas/part_categories.csv')\n",
    "parts = pd.read_csv('../Datas/parts.csv')"
   ]
  },
  {
   "cell_type": "code",
   "execution_count": 3,
   "id": "3bff79dd",
   "metadata": {},
   "outputs": [],
   "source": [
    "df_parts_an=inventory_parts.iloc[:,:5]"
   ]
  },
  {
   "cell_type": "code",
   "execution_count": 4,
   "id": "4ea5f12e",
   "metadata": {},
   "outputs": [],
   "source": [
    "parts.rename(columns={\"name\": \"name_part\"}, inplace =True)\n",
    "df_parts_an = df_parts_an.merge(parts, how=\"inner\", on=\"part_num\")"
   ]
  },
  {
   "cell_type": "code",
   "execution_count": 5,
   "id": "e437ecad",
   "metadata": {},
   "outputs": [],
   "source": [
    "colors.rename(columns={\"name\": \"name_color\", \"id\":\"color_id\"}, inplace =True)\n",
    "colors.drop([\"is_trans\"], axis=1, inplace = True)\n",
    "df_parts_an = df_parts_an.merge(colors, how=\"inner\", on=\"color_id\")"
   ]
  },
  {
   "cell_type": "code",
   "execution_count": 6,
   "id": "72b8c80b",
   "metadata": {},
   "outputs": [],
   "source": [
    "part_categories.rename(columns={\"name\": \"name_cat\", \"id\":\"part_cat_id\"}, inplace =True)\n",
    "df_parts_an = df_parts_an.merge(part_categories, how=\"inner\", on=\"part_cat_id\")"
   ]
  },
  {
   "cell_type": "code",
   "execution_count": 7,
   "id": "b41580a7",
   "metadata": {},
   "outputs": [],
   "source": [
    "inventories.rename(columns={\"id\":\"inventory_id\"}, inplace =True)\n",
    "df_parts_an = df_parts_an.merge(inventories, how=\"inner\", on=\"inventory_id\")"
   ]
  },
  {
   "cell_type": "code",
   "execution_count": 8,
   "id": "048d0290",
   "metadata": {},
   "outputs": [],
   "source": [
    "sets.rename(columns={\"name\": \"name_sets\"}, inplace =True)\n",
    "sets = sets.iloc[:,:4]\n",
    "df_parts_an = df_parts_an.merge(sets, how=\"left\", on=\"set_num\")"
   ]
  },
  {
   "cell_type": "code",
   "execution_count": 9,
   "id": "c7e0b33c",
   "metadata": {},
   "outputs": [],
   "source": [
    "themes.rename(columns={\"name\": \"name_univ\", \"id\":\"theme_id\"}, inplace =True)\n",
    "themes = themes.iloc[:,:2]\n",
    "df_parts_an = df_parts_an.merge(themes, how=\"left\", on=\"theme_id\")"
   ]
  },
  {
   "cell_type": "code",
   "execution_count": 10,
   "id": "ce28660b",
   "metadata": {},
   "outputs": [],
   "source": [
    "df_parts_an.to_csv(\"../Datas/df_parts_an_c_paul.csv\", index=False)"
   ]
  },
  {
   "cell_type": "code",
   "execution_count": null,
   "id": "0467b235",
   "metadata": {},
   "outputs": [],
   "source": []
  }
 ],
 "metadata": {
  "kernelspec": {
   "display_name": "Python 3 (ipykernel)",
   "language": "python",
   "name": "python3"
  },
  "language_info": {
   "codemirror_mode": {
    "name": "ipython",
    "version": 3
   },
   "file_extension": ".py",
   "mimetype": "text/x-python",
   "name": "python",
   "nbconvert_exporter": "python",
   "pygments_lexer": "ipython3",
   "version": "3.11.3"
  }
 },
 "nbformat": 4,
 "nbformat_minor": 5
}
